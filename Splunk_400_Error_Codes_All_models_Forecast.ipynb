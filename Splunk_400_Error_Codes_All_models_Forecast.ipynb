{
  "nbformat": 4,
  "nbformat_minor": 0,
  "metadata": {
    "colab": {
      "name": "Splunk_400_Error_Codes_All_models_Forecast.ipynb",
      "provenance": []
    },
    "kernelspec": {
      "display_name": "Python 3",
      "name": "python3"
    },
    "language_info": {
      "name": "python"
    }
  },
  "cells": [
    {
      "cell_type": "code",
      "metadata": {
        "id": "YmeVQohe9L0T"
      },
      "source": [
        ""
      ],
      "execution_count": null,
      "outputs": []
    },
    {
      "cell_type": "code",
      "metadata": {
        "id": "T9BslKiROdhU",
        "colab": {
          "base_uri": "https://localhost:8080/"
        },
        "outputId": "c1a0b0be-f1b9-4a33-9aa0-1b2434afd297"
      },
      "source": [
        "import numpy as np\n",
        "import pandas as pd\n",
        "from statsmodels.tsa.statespace.sarimax import SARIMAX\n",
        "from statsmodels.graphics.tsaplots import plot_acf,plot_pacf \n",
        "from statsmodels.tsa.seasonal import seasonal_decompose \n",
        "# from pmdarima import auto_arima                        \n",
        "from sklearn.metrics import mean_squared_error\n",
        "from statsmodels.tools.eval_measures import rmse\n",
        "import warnings\n",
        "warnings.filterwarnings(\"ignore\")"
      ],
      "execution_count": 1,
      "outputs": [
        {
          "output_type": "stream",
          "text": [
            "/usr/local/lib/python3.7/dist-packages/statsmodels/tools/_testing.py:19: FutureWarning: pandas.util.testing is deprecated. Use the functions in the public API at pandas.testing instead.\n",
            "  import pandas.util.testing as tm\n"
          ],
          "name": "stderr"
        }
      ]
    },
    {
      "cell_type": "code",
      "metadata": {
        "colab": {
          "base_uri": "https://localhost:8080/",
          "height": 110
        },
        "id": "3X02BJ8MO2hC",
        "outputId": "ad442a74-23f2-4ffd-f5d9-cd3218372b36"
      },
      "source": [
        "df=pd.read_csv('/content/sample_data/splunk_data_all_error_code-dcp-api-order-v3-prod.csv')\n",
        "\n",
        "df.head(2)\n"
      ],
      "execution_count": 2,
      "outputs": [
        {
          "output_type": "execute_result",
          "data": {
            "text/html": [
              "<div>\n",
              "<style scoped>\n",
              "    .dataframe tbody tr th:only-of-type {\n",
              "        vertical-align: middle;\n",
              "    }\n",
              "\n",
              "    .dataframe tbody tr th {\n",
              "        vertical-align: top;\n",
              "    }\n",
              "\n",
              "    .dataframe thead th {\n",
              "        text-align: right;\n",
              "    }\n",
              "</style>\n",
              "<table border=\"1\" class=\"dataframe\">\n",
              "  <thead>\n",
              "    <tr style=\"text-align: right;\">\n",
              "      <th></th>\n",
              "      <th>time</th>\n",
              "      <th>200</th>\n",
              "      <th>400</th>\n",
              "      <th>403</th>\n",
              "      <th>404</th>\n",
              "      <th>500</th>\n",
              "      <th>503</th>\n",
              "    </tr>\n",
              "  </thead>\n",
              "  <tbody>\n",
              "    <tr>\n",
              "      <th>0</th>\n",
              "      <td>2021-04-15 12:46:00.000 PDT</td>\n",
              "      <td>0</td>\n",
              "      <td>0</td>\n",
              "      <td>0</td>\n",
              "      <td>0</td>\n",
              "      <td>0</td>\n",
              "      <td>0</td>\n",
              "    </tr>\n",
              "    <tr>\n",
              "      <th>1</th>\n",
              "      <td>2021-04-15 12:47:00.000 PDT</td>\n",
              "      <td>0</td>\n",
              "      <td>0</td>\n",
              "      <td>0</td>\n",
              "      <td>0</td>\n",
              "      <td>0</td>\n",
              "      <td>2</td>\n",
              "    </tr>\n",
              "  </tbody>\n",
              "</table>\n",
              "</div>"
            ],
            "text/plain": [
              "                          time  200  400  403  404  500  503\n",
              "0  2021-04-15 12:46:00.000 PDT    0    0    0    0    0    0\n",
              "1  2021-04-15 12:47:00.000 PDT    0    0    0    0    0    2"
            ]
          },
          "metadata": {
            "tags": []
          },
          "execution_count": 2
        }
      ]
    },
    {
      "cell_type": "code",
      "metadata": {
        "id": "tLYhvxJ0PC4G"
      },
      "source": [
        "df1 = df.copy()  "
      ],
      "execution_count": 3,
      "outputs": []
    },
    {
      "cell_type": "code",
      "metadata": {
        "colab": {
          "base_uri": "https://localhost:8080/",
          "height": 202
        },
        "id": "JSo3fyTqPC7N",
        "outputId": "575d5471-ff05-4056-eea6-86afa37bdf50"
      },
      "source": [
        "df1['time1'] = pd.to_datetime(df1.time).dt.tz_localize(None)\n",
        "df1.head()"
      ],
      "execution_count": 4,
      "outputs": [
        {
          "output_type": "execute_result",
          "data": {
            "text/html": [
              "<div>\n",
              "<style scoped>\n",
              "    .dataframe tbody tr th:only-of-type {\n",
              "        vertical-align: middle;\n",
              "    }\n",
              "\n",
              "    .dataframe tbody tr th {\n",
              "        vertical-align: top;\n",
              "    }\n",
              "\n",
              "    .dataframe thead th {\n",
              "        text-align: right;\n",
              "    }\n",
              "</style>\n",
              "<table border=\"1\" class=\"dataframe\">\n",
              "  <thead>\n",
              "    <tr style=\"text-align: right;\">\n",
              "      <th></th>\n",
              "      <th>time</th>\n",
              "      <th>200</th>\n",
              "      <th>400</th>\n",
              "      <th>403</th>\n",
              "      <th>404</th>\n",
              "      <th>500</th>\n",
              "      <th>503</th>\n",
              "      <th>time1</th>\n",
              "    </tr>\n",
              "  </thead>\n",
              "  <tbody>\n",
              "    <tr>\n",
              "      <th>0</th>\n",
              "      <td>2021-04-15 12:46:00.000 PDT</td>\n",
              "      <td>0</td>\n",
              "      <td>0</td>\n",
              "      <td>0</td>\n",
              "      <td>0</td>\n",
              "      <td>0</td>\n",
              "      <td>0</td>\n",
              "      <td>2021-04-15 12:46:00</td>\n",
              "    </tr>\n",
              "    <tr>\n",
              "      <th>1</th>\n",
              "      <td>2021-04-15 12:47:00.000 PDT</td>\n",
              "      <td>0</td>\n",
              "      <td>0</td>\n",
              "      <td>0</td>\n",
              "      <td>0</td>\n",
              "      <td>0</td>\n",
              "      <td>2</td>\n",
              "      <td>2021-04-15 12:47:00</td>\n",
              "    </tr>\n",
              "    <tr>\n",
              "      <th>2</th>\n",
              "      <td>2021-04-15 12:48:00.000 PDT</td>\n",
              "      <td>0</td>\n",
              "      <td>0</td>\n",
              "      <td>0</td>\n",
              "      <td>0</td>\n",
              "      <td>0</td>\n",
              "      <td>0</td>\n",
              "      <td>2021-04-15 12:48:00</td>\n",
              "    </tr>\n",
              "    <tr>\n",
              "      <th>3</th>\n",
              "      <td>2021-04-15 12:49:00.000 PDT</td>\n",
              "      <td>0</td>\n",
              "      <td>0</td>\n",
              "      <td>0</td>\n",
              "      <td>0</td>\n",
              "      <td>0</td>\n",
              "      <td>2</td>\n",
              "      <td>2021-04-15 12:49:00</td>\n",
              "    </tr>\n",
              "    <tr>\n",
              "      <th>4</th>\n",
              "      <td>2021-04-15 12:50:00.000 PDT</td>\n",
              "      <td>0</td>\n",
              "      <td>0</td>\n",
              "      <td>0</td>\n",
              "      <td>0</td>\n",
              "      <td>0</td>\n",
              "      <td>4</td>\n",
              "      <td>2021-04-15 12:50:00</td>\n",
              "    </tr>\n",
              "  </tbody>\n",
              "</table>\n",
              "</div>"
            ],
            "text/plain": [
              "                          time  200  400  ...  500  503               time1\n",
              "0  2021-04-15 12:46:00.000 PDT    0    0  ...    0    0 2021-04-15 12:46:00\n",
              "1  2021-04-15 12:47:00.000 PDT    0    0  ...    0    2 2021-04-15 12:47:00\n",
              "2  2021-04-15 12:48:00.000 PDT    0    0  ...    0    0 2021-04-15 12:48:00\n",
              "3  2021-04-15 12:49:00.000 PDT    0    0  ...    0    2 2021-04-15 12:49:00\n",
              "4  2021-04-15 12:50:00.000 PDT    0    0  ...    0    4 2021-04-15 12:50:00\n",
              "\n",
              "[5 rows x 8 columns]"
            ]
          },
          "metadata": {
            "tags": []
          },
          "execution_count": 4
        }
      ]
    },
    {
      "cell_type": "code",
      "metadata": {
        "colab": {
          "base_uri": "https://localhost:8080/",
          "height": 202
        },
        "id": "1OFEUP-aPC-T",
        "outputId": "558f2caf-9612-496f-9a79-36c8b4eac2ac"
      },
      "source": [
        "df1['ds1'] = df1.time1.map(lambda x: x.strftime('%Y-%m-%d-%H-%M-%S'))\n",
        "df1['ds'] = df1.time1.map(lambda x: x.strftime('%Y-%m-%d-%H'))\n",
        "df1['ds2'] = df1.time1.map(lambda x: x.strftime('%Y-%m-%d-%H-%M'))\n",
        "df1['ds3'] = df1.time1.map(lambda x: x.strftime('%Y-%m-%d'))\n",
        "df1.head()"
      ],
      "execution_count": 5,
      "outputs": [
        {
          "output_type": "execute_result",
          "data": {
            "text/html": [
              "<div>\n",
              "<style scoped>\n",
              "    .dataframe tbody tr th:only-of-type {\n",
              "        vertical-align: middle;\n",
              "    }\n",
              "\n",
              "    .dataframe tbody tr th {\n",
              "        vertical-align: top;\n",
              "    }\n",
              "\n",
              "    .dataframe thead th {\n",
              "        text-align: right;\n",
              "    }\n",
              "</style>\n",
              "<table border=\"1\" class=\"dataframe\">\n",
              "  <thead>\n",
              "    <tr style=\"text-align: right;\">\n",
              "      <th></th>\n",
              "      <th>time</th>\n",
              "      <th>200</th>\n",
              "      <th>400</th>\n",
              "      <th>403</th>\n",
              "      <th>404</th>\n",
              "      <th>500</th>\n",
              "      <th>503</th>\n",
              "      <th>time1</th>\n",
              "      <th>ds1</th>\n",
              "      <th>ds</th>\n",
              "      <th>ds2</th>\n",
              "      <th>ds3</th>\n",
              "    </tr>\n",
              "  </thead>\n",
              "  <tbody>\n",
              "    <tr>\n",
              "      <th>0</th>\n",
              "      <td>2021-04-15 12:46:00.000 PDT</td>\n",
              "      <td>0</td>\n",
              "      <td>0</td>\n",
              "      <td>0</td>\n",
              "      <td>0</td>\n",
              "      <td>0</td>\n",
              "      <td>0</td>\n",
              "      <td>2021-04-15 12:46:00</td>\n",
              "      <td>2021-04-15-12-46-00</td>\n",
              "      <td>2021-04-15-12</td>\n",
              "      <td>2021-04-15-12-46</td>\n",
              "      <td>2021-04-15</td>\n",
              "    </tr>\n",
              "    <tr>\n",
              "      <th>1</th>\n",
              "      <td>2021-04-15 12:47:00.000 PDT</td>\n",
              "      <td>0</td>\n",
              "      <td>0</td>\n",
              "      <td>0</td>\n",
              "      <td>0</td>\n",
              "      <td>0</td>\n",
              "      <td>2</td>\n",
              "      <td>2021-04-15 12:47:00</td>\n",
              "      <td>2021-04-15-12-47-00</td>\n",
              "      <td>2021-04-15-12</td>\n",
              "      <td>2021-04-15-12-47</td>\n",
              "      <td>2021-04-15</td>\n",
              "    </tr>\n",
              "    <tr>\n",
              "      <th>2</th>\n",
              "      <td>2021-04-15 12:48:00.000 PDT</td>\n",
              "      <td>0</td>\n",
              "      <td>0</td>\n",
              "      <td>0</td>\n",
              "      <td>0</td>\n",
              "      <td>0</td>\n",
              "      <td>0</td>\n",
              "      <td>2021-04-15 12:48:00</td>\n",
              "      <td>2021-04-15-12-48-00</td>\n",
              "      <td>2021-04-15-12</td>\n",
              "      <td>2021-04-15-12-48</td>\n",
              "      <td>2021-04-15</td>\n",
              "    </tr>\n",
              "    <tr>\n",
              "      <th>3</th>\n",
              "      <td>2021-04-15 12:49:00.000 PDT</td>\n",
              "      <td>0</td>\n",
              "      <td>0</td>\n",
              "      <td>0</td>\n",
              "      <td>0</td>\n",
              "      <td>0</td>\n",
              "      <td>2</td>\n",
              "      <td>2021-04-15 12:49:00</td>\n",
              "      <td>2021-04-15-12-49-00</td>\n",
              "      <td>2021-04-15-12</td>\n",
              "      <td>2021-04-15-12-49</td>\n",
              "      <td>2021-04-15</td>\n",
              "    </tr>\n",
              "    <tr>\n",
              "      <th>4</th>\n",
              "      <td>2021-04-15 12:50:00.000 PDT</td>\n",
              "      <td>0</td>\n",
              "      <td>0</td>\n",
              "      <td>0</td>\n",
              "      <td>0</td>\n",
              "      <td>0</td>\n",
              "      <td>4</td>\n",
              "      <td>2021-04-15 12:50:00</td>\n",
              "      <td>2021-04-15-12-50-00</td>\n",
              "      <td>2021-04-15-12</td>\n",
              "      <td>2021-04-15-12-50</td>\n",
              "      <td>2021-04-15</td>\n",
              "    </tr>\n",
              "  </tbody>\n",
              "</table>\n",
              "</div>"
            ],
            "text/plain": [
              "                          time  200  ...               ds2         ds3\n",
              "0  2021-04-15 12:46:00.000 PDT    0  ...  2021-04-15-12-46  2021-04-15\n",
              "1  2021-04-15 12:47:00.000 PDT    0  ...  2021-04-15-12-47  2021-04-15\n",
              "2  2021-04-15 12:48:00.000 PDT    0  ...  2021-04-15-12-48  2021-04-15\n",
              "3  2021-04-15 12:49:00.000 PDT    0  ...  2021-04-15-12-49  2021-04-15\n",
              "4  2021-04-15 12:50:00.000 PDT    0  ...  2021-04-15-12-50  2021-04-15\n",
              "\n",
              "[5 rows x 12 columns]"
            ]
          },
          "metadata": {
            "tags": []
          },
          "execution_count": 5
        }
      ]
    },
    {
      "cell_type": "code",
      "metadata": {
        "id": "KeFKpUlqysqQ"
      },
      "source": [
        "df_day = df1[['ds3','200','400','403','404','500','503']]\n",
        "# df_day.head()"
      ],
      "execution_count": 6,
      "outputs": []
    },
    {
      "cell_type": "code",
      "metadata": {
        "colab": {
          "base_uri": "https://localhost:8080/",
          "height": 202
        },
        "id": "18qDJuoZyAsu",
        "outputId": "c3d073e4-19b8-40de-da6a-1be82b4c74ae"
      },
      "source": [
        "df_day['ds3'] = pd.to_datetime(df_day.ds3, format=\"%Y-%m-%d\")\n",
        "df_day.tail()"
      ],
      "execution_count": 7,
      "outputs": [
        {
          "output_type": "execute_result",
          "data": {
            "text/html": [
              "<div>\n",
              "<style scoped>\n",
              "    .dataframe tbody tr th:only-of-type {\n",
              "        vertical-align: middle;\n",
              "    }\n",
              "\n",
              "    .dataframe tbody tr th {\n",
              "        vertical-align: top;\n",
              "    }\n",
              "\n",
              "    .dataframe thead th {\n",
              "        text-align: right;\n",
              "    }\n",
              "</style>\n",
              "<table border=\"1\" class=\"dataframe\">\n",
              "  <thead>\n",
              "    <tr style=\"text-align: right;\">\n",
              "      <th></th>\n",
              "      <th>ds3</th>\n",
              "      <th>200</th>\n",
              "      <th>400</th>\n",
              "      <th>403</th>\n",
              "      <th>404</th>\n",
              "      <th>500</th>\n",
              "      <th>503</th>\n",
              "    </tr>\n",
              "  </thead>\n",
              "  <tbody>\n",
              "    <tr>\n",
              "      <th>43196</th>\n",
              "      <td>2021-05-15</td>\n",
              "      <td>26</td>\n",
              "      <td>0</td>\n",
              "      <td>1</td>\n",
              "      <td>0</td>\n",
              "      <td>0</td>\n",
              "      <td>0</td>\n",
              "    </tr>\n",
              "    <tr>\n",
              "      <th>43197</th>\n",
              "      <td>2021-05-15</td>\n",
              "      <td>34</td>\n",
              "      <td>1</td>\n",
              "      <td>1</td>\n",
              "      <td>0</td>\n",
              "      <td>0</td>\n",
              "      <td>0</td>\n",
              "    </tr>\n",
              "    <tr>\n",
              "      <th>43198</th>\n",
              "      <td>2021-05-15</td>\n",
              "      <td>25</td>\n",
              "      <td>1</td>\n",
              "      <td>1</td>\n",
              "      <td>0</td>\n",
              "      <td>0</td>\n",
              "      <td>0</td>\n",
              "    </tr>\n",
              "    <tr>\n",
              "      <th>43199</th>\n",
              "      <td>2021-05-15</td>\n",
              "      <td>28</td>\n",
              "      <td>2</td>\n",
              "      <td>1</td>\n",
              "      <td>0</td>\n",
              "      <td>0</td>\n",
              "      <td>0</td>\n",
              "    </tr>\n",
              "    <tr>\n",
              "      <th>43200</th>\n",
              "      <td>2021-05-15</td>\n",
              "      <td>7</td>\n",
              "      <td>0</td>\n",
              "      <td>0</td>\n",
              "      <td>0</td>\n",
              "      <td>0</td>\n",
              "      <td>0</td>\n",
              "    </tr>\n",
              "  </tbody>\n",
              "</table>\n",
              "</div>"
            ],
            "text/plain": [
              "             ds3  200  400  403  404  500  503\n",
              "43196 2021-05-15   26    0    1    0    0    0\n",
              "43197 2021-05-15   34    1    1    0    0    0\n",
              "43198 2021-05-15   25    1    1    0    0    0\n",
              "43199 2021-05-15   28    2    1    0    0    0\n",
              "43200 2021-05-15    7    0    0    0    0    0"
            ]
          },
          "metadata": {
            "tags": []
          },
          "execution_count": 7
        }
      ]
    },
    {
      "cell_type": "code",
      "metadata": {
        "colab": {
          "base_uri": "https://localhost:8080/",
          "height": 250
        },
        "id": "yKz8yXQ81_zU",
        "outputId": "cf58937e-e977-4402-f020-5f66d5e685d5"
      },
      "source": [
        "df_day1 = df_day.pivot_table(index=['ds3'], aggfunc='sum')\n",
        "print(df_day1.shape)\n",
        "df_day1.head()\n"
      ],
      "execution_count": 8,
      "outputs": [
        {
          "output_type": "stream",
          "text": [
            "(31, 6)\n"
          ],
          "name": "stdout"
        },
        {
          "output_type": "execute_result",
          "data": {
            "text/html": [
              "<div>\n",
              "<style scoped>\n",
              "    .dataframe tbody tr th:only-of-type {\n",
              "        vertical-align: middle;\n",
              "    }\n",
              "\n",
              "    .dataframe tbody tr th {\n",
              "        vertical-align: top;\n",
              "    }\n",
              "\n",
              "    .dataframe thead th {\n",
              "        text-align: right;\n",
              "    }\n",
              "</style>\n",
              "<table border=\"1\" class=\"dataframe\">\n",
              "  <thead>\n",
              "    <tr style=\"text-align: right;\">\n",
              "      <th></th>\n",
              "      <th>200</th>\n",
              "      <th>400</th>\n",
              "      <th>403</th>\n",
              "      <th>404</th>\n",
              "      <th>500</th>\n",
              "      <th>503</th>\n",
              "    </tr>\n",
              "    <tr>\n",
              "      <th>ds3</th>\n",
              "      <th></th>\n",
              "      <th></th>\n",
              "      <th></th>\n",
              "      <th></th>\n",
              "      <th></th>\n",
              "      <th></th>\n",
              "    </tr>\n",
              "  </thead>\n",
              "  <tbody>\n",
              "    <tr>\n",
              "      <th>2021-04-15</th>\n",
              "      <td>0</td>\n",
              "      <td>0</td>\n",
              "      <td>0</td>\n",
              "      <td>0</td>\n",
              "      <td>0</td>\n",
              "      <td>986</td>\n",
              "    </tr>\n",
              "    <tr>\n",
              "      <th>2021-04-16</th>\n",
              "      <td>6051</td>\n",
              "      <td>3</td>\n",
              "      <td>0</td>\n",
              "      <td>0</td>\n",
              "      <td>0</td>\n",
              "      <td>1156</td>\n",
              "    </tr>\n",
              "    <tr>\n",
              "      <th>2021-04-17</th>\n",
              "      <td>10612</td>\n",
              "      <td>0</td>\n",
              "      <td>0</td>\n",
              "      <td>0</td>\n",
              "      <td>0</td>\n",
              "      <td>0</td>\n",
              "    </tr>\n",
              "    <tr>\n",
              "      <th>2021-04-18</th>\n",
              "      <td>11510</td>\n",
              "      <td>0</td>\n",
              "      <td>0</td>\n",
              "      <td>0</td>\n",
              "      <td>0</td>\n",
              "      <td>0</td>\n",
              "    </tr>\n",
              "    <tr>\n",
              "      <th>2021-04-19</th>\n",
              "      <td>14501</td>\n",
              "      <td>1</td>\n",
              "      <td>0</td>\n",
              "      <td>0</td>\n",
              "      <td>0</td>\n",
              "      <td>0</td>\n",
              "    </tr>\n",
              "  </tbody>\n",
              "</table>\n",
              "</div>"
            ],
            "text/plain": [
              "              200  400  403  404  500   503\n",
              "ds3                                        \n",
              "2021-04-15      0    0    0    0    0   986\n",
              "2021-04-16   6051    3    0    0    0  1156\n",
              "2021-04-17  10612    0    0    0    0     0\n",
              "2021-04-18  11510    0    0    0    0     0\n",
              "2021-04-19  14501    1    0    0    0     0"
            ]
          },
          "metadata": {
            "tags": []
          },
          "execution_count": 8
        }
      ]
    },
    {
      "cell_type": "code",
      "metadata": {
        "id": "DZgRkI03w5V6"
      },
      "source": [
        "df_day1 = df_day1.sort_values(by=\"ds3\")"
      ],
      "execution_count": 9,
      "outputs": []
    },
    {
      "cell_type": "code",
      "metadata": {
        "id": "ZHvEHoHRwVBa"
      },
      "source": [
        "# Analysis for hourly 500 error code"
      ],
      "execution_count": null,
      "outputs": []
    },
    {
      "cell_type": "code",
      "metadata": {
        "colab": {
          "base_uri": "https://localhost:8080/",
          "height": 219
        },
        "id": "iOwt4Y_4mEMr",
        "outputId": "6362bdb4-9252-406a-bbca-915057202a81"
      },
      "source": [
        "df_hour_400 = df1[['ds','400']]\n",
        "print(df_hour_400.shape)\n",
        "df_hour_400.head()"
      ],
      "execution_count": 13,
      "outputs": [
        {
          "output_type": "stream",
          "text": [
            "(43201, 2)\n"
          ],
          "name": "stdout"
        },
        {
          "output_type": "execute_result",
          "data": {
            "text/html": [
              "<div>\n",
              "<style scoped>\n",
              "    .dataframe tbody tr th:only-of-type {\n",
              "        vertical-align: middle;\n",
              "    }\n",
              "\n",
              "    .dataframe tbody tr th {\n",
              "        vertical-align: top;\n",
              "    }\n",
              "\n",
              "    .dataframe thead th {\n",
              "        text-align: right;\n",
              "    }\n",
              "</style>\n",
              "<table border=\"1\" class=\"dataframe\">\n",
              "  <thead>\n",
              "    <tr style=\"text-align: right;\">\n",
              "      <th></th>\n",
              "      <th>ds</th>\n",
              "      <th>400</th>\n",
              "    </tr>\n",
              "  </thead>\n",
              "  <tbody>\n",
              "    <tr>\n",
              "      <th>0</th>\n",
              "      <td>2021-04-15-12</td>\n",
              "      <td>0</td>\n",
              "    </tr>\n",
              "    <tr>\n",
              "      <th>1</th>\n",
              "      <td>2021-04-15-12</td>\n",
              "      <td>0</td>\n",
              "    </tr>\n",
              "    <tr>\n",
              "      <th>2</th>\n",
              "      <td>2021-04-15-12</td>\n",
              "      <td>0</td>\n",
              "    </tr>\n",
              "    <tr>\n",
              "      <th>3</th>\n",
              "      <td>2021-04-15-12</td>\n",
              "      <td>0</td>\n",
              "    </tr>\n",
              "    <tr>\n",
              "      <th>4</th>\n",
              "      <td>2021-04-15-12</td>\n",
              "      <td>0</td>\n",
              "    </tr>\n",
              "  </tbody>\n",
              "</table>\n",
              "</div>"
            ],
            "text/plain": [
              "              ds  400\n",
              "0  2021-04-15-12    0\n",
              "1  2021-04-15-12    0\n",
              "2  2021-04-15-12    0\n",
              "3  2021-04-15-12    0\n",
              "4  2021-04-15-12    0"
            ]
          },
          "metadata": {
            "tags": []
          },
          "execution_count": 13
        }
      ]
    },
    {
      "cell_type": "code",
      "metadata": {
        "id": "h2xqlAZ79RXB"
      },
      "source": [
        "# df_hour_500.reset_index(inplace=True)"
      ],
      "execution_count": null,
      "outputs": []
    },
    {
      "cell_type": "code",
      "metadata": {
        "id": "v5Aga5sFteGD"
      },
      "source": [
        "# df_hour['ds'] = pd.to_datetime(df_hour.ds, format=\"%Y-%m-%d-%H\")\n",
        "# df_hour.head()"
      ],
      "execution_count": null,
      "outputs": []
    },
    {
      "cell_type": "code",
      "metadata": {
        "colab": {
          "base_uri": "https://localhost:8080/",
          "height": 433
        },
        "id": "peJ2siORmEPy",
        "outputId": "0f4367c9-506b-4899-c85b-4bac2ef26b61"
      },
      "source": [
        "df_hour_400['ds'] = pd.to_datetime(df_hour_400['ds'])\n",
        "df_hour_400 = df_hour_400.groupby('ds', as_index=False).agg({\"400\": \"sum\"})\n",
        "df_hour_400.reset_index(inplace=True)\n",
        "df_hour_400.rename(columns={'400': 'y'}, inplace=True)\n",
        "df_hour_400 = df_hour_400.drop(['index'],axis = 1)\n",
        "\n",
        "print(df_hour_400.shape)\n",
        "df_hour_400"
      ],
      "execution_count": 14,
      "outputs": [
        {
          "output_type": "stream",
          "text": [
            "(721, 2)\n"
          ],
          "name": "stdout"
        },
        {
          "output_type": "execute_result",
          "data": {
            "text/html": [
              "<div>\n",
              "<style scoped>\n",
              "    .dataframe tbody tr th:only-of-type {\n",
              "        vertical-align: middle;\n",
              "    }\n",
              "\n",
              "    .dataframe tbody tr th {\n",
              "        vertical-align: top;\n",
              "    }\n",
              "\n",
              "    .dataframe thead th {\n",
              "        text-align: right;\n",
              "    }\n",
              "</style>\n",
              "<table border=\"1\" class=\"dataframe\">\n",
              "  <thead>\n",
              "    <tr style=\"text-align: right;\">\n",
              "      <th></th>\n",
              "      <th>ds</th>\n",
              "      <th>y</th>\n",
              "    </tr>\n",
              "  </thead>\n",
              "  <tbody>\n",
              "    <tr>\n",
              "      <th>0</th>\n",
              "      <td>2021-04-15 12:00:00</td>\n",
              "      <td>0</td>\n",
              "    </tr>\n",
              "    <tr>\n",
              "      <th>1</th>\n",
              "      <td>2021-04-15 13:00:00</td>\n",
              "      <td>0</td>\n",
              "    </tr>\n",
              "    <tr>\n",
              "      <th>2</th>\n",
              "      <td>2021-04-15 14:00:00</td>\n",
              "      <td>0</td>\n",
              "    </tr>\n",
              "    <tr>\n",
              "      <th>3</th>\n",
              "      <td>2021-04-15 15:00:00</td>\n",
              "      <td>0</td>\n",
              "    </tr>\n",
              "    <tr>\n",
              "      <th>4</th>\n",
              "      <td>2021-04-15 16:00:00</td>\n",
              "      <td>0</td>\n",
              "    </tr>\n",
              "    <tr>\n",
              "      <th>...</th>\n",
              "      <td>...</td>\n",
              "      <td>...</td>\n",
              "    </tr>\n",
              "    <tr>\n",
              "      <th>716</th>\n",
              "      <td>2021-05-15 08:00:00</td>\n",
              "      <td>75</td>\n",
              "    </tr>\n",
              "    <tr>\n",
              "      <th>717</th>\n",
              "      <td>2021-05-15 09:00:00</td>\n",
              "      <td>100</td>\n",
              "    </tr>\n",
              "    <tr>\n",
              "      <th>718</th>\n",
              "      <td>2021-05-15 10:00:00</td>\n",
              "      <td>92</td>\n",
              "    </tr>\n",
              "    <tr>\n",
              "      <th>719</th>\n",
              "      <td>2021-05-15 11:00:00</td>\n",
              "      <td>102</td>\n",
              "    </tr>\n",
              "    <tr>\n",
              "      <th>720</th>\n",
              "      <td>2021-05-15 12:00:00</td>\n",
              "      <td>51</td>\n",
              "    </tr>\n",
              "  </tbody>\n",
              "</table>\n",
              "<p>721 rows × 2 columns</p>\n",
              "</div>"
            ],
            "text/plain": [
              "                     ds    y\n",
              "0   2021-04-15 12:00:00    0\n",
              "1   2021-04-15 13:00:00    0\n",
              "2   2021-04-15 14:00:00    0\n",
              "3   2021-04-15 15:00:00    0\n",
              "4   2021-04-15 16:00:00    0\n",
              "..                  ...  ...\n",
              "716 2021-05-15 08:00:00   75\n",
              "717 2021-05-15 09:00:00  100\n",
              "718 2021-05-15 10:00:00   92\n",
              "719 2021-05-15 11:00:00  102\n",
              "720 2021-05-15 12:00:00   51\n",
              "\n",
              "[721 rows x 2 columns]"
            ]
          },
          "metadata": {
            "tags": []
          },
          "execution_count": 14
        }
      ]
    },
    {
      "cell_type": "code",
      "metadata": {
        "id": "gmwMwjRgP4C4"
      },
      "source": [
        "df = df_hour_400.copy()"
      ],
      "execution_count": 15,
      "outputs": []
    },
    {
      "cell_type": "code",
      "metadata": {
        "colab": {
          "base_uri": "https://localhost:8080/",
          "height": 233
        },
        "id": "tWx_WuSLPyAi",
        "outputId": "4018adfc-283e-48c7-8c60-55fdf6afb072"
      },
      "source": [
        "df.ds = pd.to_datetime(df.ds)\n",
        "df = df.set_index(\"ds\")\n",
        "df.head()"
      ],
      "execution_count": 16,
      "outputs": [
        {
          "output_type": "execute_result",
          "data": {
            "text/html": [
              "<div>\n",
              "<style scoped>\n",
              "    .dataframe tbody tr th:only-of-type {\n",
              "        vertical-align: middle;\n",
              "    }\n",
              "\n",
              "    .dataframe tbody tr th {\n",
              "        vertical-align: top;\n",
              "    }\n",
              "\n",
              "    .dataframe thead th {\n",
              "        text-align: right;\n",
              "    }\n",
              "</style>\n",
              "<table border=\"1\" class=\"dataframe\">\n",
              "  <thead>\n",
              "    <tr style=\"text-align: right;\">\n",
              "      <th></th>\n",
              "      <th>y</th>\n",
              "    </tr>\n",
              "    <tr>\n",
              "      <th>ds</th>\n",
              "      <th></th>\n",
              "    </tr>\n",
              "  </thead>\n",
              "  <tbody>\n",
              "    <tr>\n",
              "      <th>2021-04-15 12:00:00</th>\n",
              "      <td>0</td>\n",
              "    </tr>\n",
              "    <tr>\n",
              "      <th>2021-04-15 13:00:00</th>\n",
              "      <td>0</td>\n",
              "    </tr>\n",
              "    <tr>\n",
              "      <th>2021-04-15 14:00:00</th>\n",
              "      <td>0</td>\n",
              "    </tr>\n",
              "    <tr>\n",
              "      <th>2021-04-15 15:00:00</th>\n",
              "      <td>0</td>\n",
              "    </tr>\n",
              "    <tr>\n",
              "      <th>2021-04-15 16:00:00</th>\n",
              "      <td>0</td>\n",
              "    </tr>\n",
              "  </tbody>\n",
              "</table>\n",
              "</div>"
            ],
            "text/plain": [
              "                     y\n",
              "ds                    \n",
              "2021-04-15 12:00:00  0\n",
              "2021-04-15 13:00:00  0\n",
              "2021-04-15 14:00:00  0\n",
              "2021-04-15 15:00:00  0\n",
              "2021-04-15 16:00:00  0"
            ]
          },
          "metadata": {
            "tags": []
          },
          "execution_count": 16
        }
      ]
    },
    {
      "cell_type": "code",
      "metadata": {
        "colab": {
          "base_uri": "https://localhost:8080/",
          "height": 385
        },
        "id": "PX517svEPyDj",
        "outputId": "c05e77b9-a1d6-4a92-cc64-87dc95eb2f72"
      },
      "source": [
        "# df.index.freq = 'MS'\n",
        "\n",
        "ax = df['y'].plot(figsize = (16,5), title = \"Hourly errors of 400\")\n",
        "ax.set(xlabel='ds', ylabel='error');"
      ],
      "execution_count": 17,
      "outputs": [
        {
          "output_type": "display_data",
          "data": {
            "image/png": "[encoded data removed]",
            "text/plain": [
              "<Figure size 1152x360 with 1 Axes>"
            ]
          },
          "metadata": {
            "tags": [],
            "needs_background": "light"
          }
        }
      ]
    },
    {
      "cell_type": "code",
      "metadata": {
        "colab": {
          "base_uri": "https://localhost:8080/",
          "height": 585
        },
        "id": "L_NT6XLBPyGh",
        "outputId": "134ae87d-6315-4045-9685-54abd3e14f9d"
      },
      "source": [
        "a = seasonal_decompose(df[\"y\"], model = \"add\")\n",
        "a.plot()"
      ],
      "execution_count": 18,
      "outputs": [
        {
          "output_type": "execute_result",
          "data": {
            "image/png": "[encoded data removed]",
            "text/plain": [
              "<Figure size 432x288 with 4 Axes>"
            ]
          },
          "metadata": {
            "tags": []
          },
          "execution_count": 18
        },
        {
          "output_type": "display_data",
          "data": {
            "image/png": "[encoded data removed]",
            "text/plain": [
              "<Figure size 432x288 with 4 Axes>"
            ]
          },
          "metadata": {
            "tags": [],
            "needs_background": "light"
          }
        }
      ]
    },
    {
      "cell_type": "code",
      "metadata": {
        "colab": {
          "base_uri": "https://localhost:8080/",
          "height": 477
        },
        "id": "5g0Aup6nPyJO",
        "outputId": "34218902-4401-495f-b8ab-7b3d50dee0b7"
      },
      "source": [
        "import matplotlib.pyplot as plt\n",
        "plt.figure(figsize = (16,7))\n",
        "a.seasonal.plot();"
      ],
      "execution_count": 19,
      "outputs": [
        {
          "output_type": "display_data",
          "data": {
            "image/png": "[encoded data removed]",
            "text/plain": [
              "<Figure size 1152x504 with 1 Axes>"
            ]
          },
          "metadata": {
            "tags": [],
            "needs_background": "light"
          }
        }
      ]
    },
    {
      "cell_type": "code",
      "metadata": {
        "id": "QXMZj_6hPyME"
      },
      "source": [
        "# ARIMA Forecast"
      ],
      "execution_count": null,
      "outputs": []
    },
    {
      "cell_type": "code",
      "metadata": {
        "colab": {
          "base_uri": "https://localhost:8080/",
          "height": 233
        },
        "id": "qbgxAVLTiz-M",
        "outputId": "4950381c-180a-4880-c0dd-eaff153499b7"
      },
      "source": [
        "df1 = df.copy()\n",
        "df1.head()"
      ],
      "execution_count": 20,
      "outputs": [
        {
          "output_type": "execute_result",
          "data": {
            "text/html": [
              "<div>\n",
              "<style scoped>\n",
              "    .dataframe tbody tr th:only-of-type {\n",
              "        vertical-align: middle;\n",
              "    }\n",
              "\n",
              "    .dataframe tbody tr th {\n",
              "        vertical-align: top;\n",
              "    }\n",
              "\n",
              "    .dataframe thead th {\n",
              "        text-align: right;\n",
              "    }\n",
              "</style>\n",
              "<table border=\"1\" class=\"dataframe\">\n",
              "  <thead>\n",
              "    <tr style=\"text-align: right;\">\n",
              "      <th></th>\n",
              "      <th>y</th>\n",
              "    </tr>\n",
              "    <tr>\n",
              "      <th>ds</th>\n",
              "      <th></th>\n",
              "    </tr>\n",
              "  </thead>\n",
              "  <tbody>\n",
              "    <tr>\n",
              "      <th>2021-04-15 12:00:00</th>\n",
              "      <td>0</td>\n",
              "    </tr>\n",
              "    <tr>\n",
              "      <th>2021-04-15 13:00:00</th>\n",
              "      <td>0</td>\n",
              "    </tr>\n",
              "    <tr>\n",
              "      <th>2021-04-15 14:00:00</th>\n",
              "      <td>0</td>\n",
              "    </tr>\n",
              "    <tr>\n",
              "      <th>2021-04-15 15:00:00</th>\n",
              "      <td>0</td>\n",
              "    </tr>\n",
              "    <tr>\n",
              "      <th>2021-04-15 16:00:00</th>\n",
              "      <td>0</td>\n",
              "    </tr>\n",
              "  </tbody>\n",
              "</table>\n",
              "</div>"
            ],
            "text/plain": [
              "                     y\n",
              "ds                    \n",
              "2021-04-15 12:00:00  0\n",
              "2021-04-15 13:00:00  0\n",
              "2021-04-15 14:00:00  0\n",
              "2021-04-15 15:00:00  0\n",
              "2021-04-15 16:00:00  0"
            ]
          },
          "metadata": {
            "tags": []
          },
          "execution_count": 20
        }
      ]
    },
    {
      "cell_type": "code",
      "metadata": {
        "id": "obamDMb-PyO2"
      },
      "source": [
        "train_data = df[:len(df)-12]\n",
        "test_data = df[len(df)-12:]"
      ],
      "execution_count": 21,
      "outputs": []
    },
    {
      "cell_type": "code",
      "metadata": {
        "colab": {
          "base_uri": "https://localhost:8080/"
        },
        "id": "P0-YMsGvPyRc",
        "outputId": "9bc0a3b4-0c6f-489b-a180-041a38f4b8f5"
      },
      "source": [
        "print(train_data.shape)\n",
        "print(test_data.shape)\n",
        "print(train_data.head())\n",
        "print(train_data.tail(10))\n",
        "print(test_data.head())\n",
        "print(test_data.tail(10))"
      ],
      "execution_count": 22,
      "outputs": [
        {
          "output_type": "stream",
          "text": [
            "(709, 1)\n",
            "(12, 1)\n",
            "                     y\n",
            "ds                    \n",
            "2021-04-15 12:00:00  0\n",
            "2021-04-15 13:00:00  0\n",
            "2021-04-15 14:00:00  0\n",
            "2021-04-15 15:00:00  0\n",
            "2021-04-15 16:00:00  0\n",
            "                      y\n",
            "ds                     \n",
            "2021-05-14 15:00:00  82\n",
            "2021-05-14 16:00:00  68\n",
            "2021-05-14 17:00:00  64\n",
            "2021-05-14 18:00:00  58\n",
            "2021-05-14 19:00:00  51\n",
            "2021-05-14 20:00:00  11\n",
            "2021-05-14 21:00:00  15\n",
            "2021-05-14 22:00:00   9\n",
            "2021-05-14 23:00:00   2\n",
            "2021-05-15 00:00:00   0\n",
            "                      y\n",
            "ds                     \n",
            "2021-05-15 01:00:00   5\n",
            "2021-05-15 02:00:00   1\n",
            "2021-05-15 03:00:00   0\n",
            "2021-05-15 04:00:00   6\n",
            "2021-05-15 05:00:00  26\n",
            "                       y\n",
            "ds                      \n",
            "2021-05-15 03:00:00    0\n",
            "2021-05-15 04:00:00    6\n",
            "2021-05-15 05:00:00   26\n",
            "2021-05-15 06:00:00   31\n",
            "2021-05-15 07:00:00   66\n",
            "2021-05-15 08:00:00   75\n",
            "2021-05-15 09:00:00  100\n",
            "2021-05-15 10:00:00   92\n",
            "2021-05-15 11:00:00  102\n",
            "2021-05-15 12:00:00   51\n"
          ],
          "name": "stdout"
        }
      ]
    },
    {
      "cell_type": "code",
      "metadata": {
        "id": "_eJd50Zb5axb"
      },
      "source": [
        "arima_model = SARIMAX(train_data['y'], order = (2,1,1), seasonal_order = (4,0,3,12))\n",
        "arima_result = arima_model.fit()\n",
        "arima_result.summary()"
      ],
      "execution_count": null,
      "outputs": []
    },
    {
      "cell_type": "code",
      "metadata": {
        "colab": {
          "base_uri": "https://localhost:8080/",
          "height": 585
        },
        "id": "WZ6l6ECuPyUW",
        "outputId": "b2a28042-f383-459f-bdfe-21c1ff8868a5"
      },
      "source": [
        "arima_model = SARIMAX(train_data['y'], order = (2,1,1), seasonal_order = (4,0,3,12))\n",
        "arima_result = arima_model.fit()\n",
        "arima_result.summary()"
      ],
      "execution_count": 68,
      "outputs": [
        {
          "output_type": "execute_result",
          "data": {
            "text/html": [
              "<table class=\"simpletable\">\n",
              "<caption>Statespace Model Results</caption>\n",
              "<tr>\n",
              "  <th>Dep. Variable:</th>                  <td>y</td>               <th>  No. Observations:  </th>    <td>709</td>   \n",
              "</tr>\n",
              "<tr>\n",
              "  <th>Model:</th>           <td>SARIMAX(2, 1, 1)x(4, 0, 3, 12)</td> <th>  Log Likelihood     </th> <td>-2202.332</td>\n",
              "</tr>\n",
              "<tr>\n",
              "  <th>Date:</th>                   <td>Mon, 31 May 2021</td>        <th>  AIC                </th> <td>4426.664</td> \n",
              "</tr>\n",
              "<tr>\n",
              "  <th>Time:</th>                       <td>07:03:59</td>            <th>  BIC                </th> <td>4476.851</td> \n",
              "</tr>\n",
              "<tr>\n",
              "  <th>Sample:</th>                    <td>04-15-2021</td>           <th>  HQIC               </th> <td>4446.054</td> \n",
              "</tr>\n",
              "<tr>\n",
              "  <th></th>                          <td>- 05-15-2021</td>          <th>                     </th>     <td> </td>    \n",
              "</tr>\n",
              "<tr>\n",
              "  <th>Covariance Type:</th>               <td>opg</td>              <th>                     </th>     <td> </td>    \n",
              "</tr>\n",
              "</table>\n",
              "<table class=\"simpletable\">\n",
              "<tr>\n",
              "      <td></td>        <th>coef</th>     <th>std err</th>      <th>z</th>      <th>P>|z|</th>  <th>[0.025</th>    <th>0.975]</th>  \n",
              "</tr>\n",
              "<tr>\n",
              "  <th>ar.L1</th>    <td>    0.2013</td> <td>    0.094</td> <td>    2.142</td> <td> 0.032</td> <td>    0.017</td> <td>    0.386</td>\n",
              "</tr>\n",
              "<tr>\n",
              "  <th>ar.L2</th>    <td>    0.2676</td> <td>    0.025</td> <td>   10.639</td> <td> 0.000</td> <td>    0.218</td> <td>    0.317</td>\n",
              "</tr>\n",
              "<tr>\n",
              "  <th>ma.L1</th>    <td>   -0.4395</td> <td>    0.102</td> <td>   -4.318</td> <td> 0.000</td> <td>   -0.639</td> <td>   -0.240</td>\n",
              "</tr>\n",
              "<tr>\n",
              "  <th>ar.S.L12</th> <td>   -1.0426</td> <td>    0.276</td> <td>   -3.782</td> <td> 0.000</td> <td>   -1.583</td> <td>   -0.502</td>\n",
              "</tr>\n",
              "<tr>\n",
              "  <th>ar.S.L24</th> <td>    0.1729</td> <td>    0.195</td> <td>    0.888</td> <td> 0.375</td> <td>   -0.209</td> <td>    0.555</td>\n",
              "</tr>\n",
              "<tr>\n",
              "  <th>ar.S.L36</th> <td>    0.6263</td> <td>    0.274</td> <td>    2.288</td> <td> 0.022</td> <td>    0.090</td> <td>    1.163</td>\n",
              "</tr>\n",
              "<tr>\n",
              "  <th>ar.S.L48</th> <td>    0.3041</td> <td>    0.074</td> <td>    4.084</td> <td> 0.000</td> <td>    0.158</td> <td>    0.450</td>\n",
              "</tr>\n",
              "<tr>\n",
              "  <th>ma.S.L12</th> <td>    0.8141</td> <td>    0.274</td> <td>    2.972</td> <td> 0.003</td> <td>    0.277</td> <td>    1.351</td>\n",
              "</tr>\n",
              "<tr>\n",
              "  <th>ma.S.L24</th> <td>   -0.0422</td> <td>    0.180</td> <td>   -0.234</td> <td> 0.815</td> <td>   -0.395</td> <td>    0.311</td>\n",
              "</tr>\n",
              "<tr>\n",
              "  <th>ma.S.L36</th> <td>   -0.2872</td> <td>    0.189</td> <td>   -1.521</td> <td> 0.128</td> <td>   -0.657</td> <td>    0.083</td>\n",
              "</tr>\n",
              "<tr>\n",
              "  <th>sigma2</th>   <td>   29.0314</td> <td>    0.595</td> <td>   48.763</td> <td> 0.000</td> <td>   27.865</td> <td>   30.198</td>\n",
              "</tr>\n",
              "</table>\n",
              "<table class=\"simpletable\">\n",
              "<tr>\n",
              "  <th>Ljung-Box (Q):</th>          <td>169.14</td>  <th>  Jarque-Bera (JB):  </th> <td>13419.24</td>\n",
              "</tr>\n",
              "<tr>\n",
              "  <th>Prob(Q):</th>                 <td>0.00</td>   <th>  Prob(JB):          </th>   <td>0.00</td>  \n",
              "</tr>\n",
              "<tr>\n",
              "  <th>Heteroskedasticity (H):</th> <td>1932.85</td> <th>  Skew:              </th>   <td>1.66</td>  \n",
              "</tr>\n",
              "<tr>\n",
              "  <th>Prob(H) (two-sided):</th>     <td>0.00</td>   <th>  Kurtosis:          </th>   <td>24.07</td> \n",
              "</tr>\n",
              "</table><br/><br/>Warnings:<br/>[1] Covariance matrix calculated using the outer product of gradients (complex-step)."
            ],
            "text/plain": [
              "<class 'statsmodels.iolib.summary.Summary'>\n",
              "\"\"\"\n",
              "                                 Statespace Model Results                                 \n",
              "==========================================================================================\n",
              "Dep. Variable:                                  y   No. Observations:                  709\n",
              "Model:             SARIMAX(2, 1, 1)x(4, 0, 3, 12)   Log Likelihood               -2202.332\n",
              "Date:                            Mon, 31 May 2021   AIC                           4426.664\n",
              "Time:                                    07:03:59   BIC                           4476.851\n",
              "Sample:                                04-15-2021   HQIC                          4446.054\n",
              "                                     - 05-15-2021                                         \n",
              "Covariance Type:                              opg                                         \n",
              "==============================================================================\n",
              "                 coef    std err          z      P>|z|      [0.025      0.975]\n",
              "------------------------------------------------------------------------------\n",
              "ar.L1          0.2013      0.094      2.142      0.032       0.017       0.386\n",
              "ar.L2          0.2676      0.025     10.639      0.000       0.218       0.317\n",
              "ma.L1         -0.4395      0.102     -4.318      0.000      -0.639      -0.240\n",
              "ar.S.L12      -1.0426      0.276     -3.782      0.000      -1.583      -0.502\n",
              "ar.S.L24       0.1729      0.195      0.888      0.375      -0.209       0.555\n",
              "ar.S.L36       0.6263      0.274      2.288      0.022       0.090       1.163\n",
              "ar.S.L48       0.3041      0.074      4.084      0.000       0.158       0.450\n",
              "ma.S.L12       0.8141      0.274      2.972      0.003       0.277       1.351\n",
              "ma.S.L24      -0.0422      0.180     -0.234      0.815      -0.395       0.311\n",
              "ma.S.L36      -0.2872      0.189     -1.521      0.128      -0.657       0.083\n",
              "sigma2        29.0314      0.595     48.763      0.000      27.865      30.198\n",
              "===================================================================================\n",
              "Ljung-Box (Q):                      169.14   Jarque-Bera (JB):             13419.24\n",
              "Prob(Q):                              0.00   Prob(JB):                         0.00\n",
              "Heteroskedasticity (H):            1932.85   Skew:                             1.66\n",
              "Prob(H) (two-sided):                  0.00   Kurtosis:                        24.07\n",
              "===================================================================================\n",
              "\n",
              "Warnings:\n",
              "[1] Covariance matrix calculated using the outer product of gradients (complex-step).\n",
              "\"\"\""
            ]
          },
          "metadata": {
            "tags": []
          },
          "execution_count": 68
        }
      ]
    },
    {
      "cell_type": "code",
      "metadata": {
        "colab": {
          "base_uri": "https://localhost:8080/"
        },
        "id": "OnSh4x3zPyXB",
        "outputId": "3bbcb4d2-4463-4e35-f050-e98a1cdaed89"
      },
      "source": [
        "arima_pred = arima_result.predict(start = len(train_data), end = len(df)-1, typ=\"levels\").rename(\"ARIMA Predictions\")\n",
        "arima_pred"
      ],
      "execution_count": 69,
      "outputs": [
        {
          "output_type": "execute_result",
          "data": {
            "text/plain": [
              "2021-05-15 01:00:00    -2.001042\n",
              "2021-05-15 02:00:00    -0.978309\n",
              "2021-05-15 03:00:00    -1.971162\n",
              "2021-05-15 04:00:00     4.463638\n",
              "2021-05-15 05:00:00    27.016595\n",
              "2021-05-15 06:00:00    41.649047\n",
              "2021-05-15 07:00:00    48.696531\n",
              "2021-05-15 08:00:00    65.703623\n",
              "2021-05-15 09:00:00    75.224006\n",
              "2021-05-15 10:00:00    67.905991\n",
              "2021-05-15 11:00:00    65.049189\n",
              "2021-05-15 12:00:00    66.921189\n",
              "Freq: H, Name: ARIMA Predictions, dtype: float64"
            ]
          },
          "metadata": {
            "tags": []
          },
          "execution_count": 69
        }
      ]
    },
    {
      "cell_type": "code",
      "metadata": {
        "colab": {
          "base_uri": "https://localhost:8080/",
          "height": 334
        },
        "id": "LwHFXWUbPyZd",
        "outputId": "c574c0b7-0071-4efe-84ff-b2b2f9e73c39"
      },
      "source": [
        "test_data['y'].plot(figsize = (16,5), legend=True)\n",
        "arima_pred.plot(legend = True);"
      ],
      "execution_count": 70,
      "outputs": [
        {
          "output_type": "display_data",
          "data": {
            "image/png": "[encoded data removed]",
            "text/plain": [
              "<Figure size 1152x360 with 1 Axes>"
            ]
          },
          "metadata": {
            "tags": [],
            "needs_background": "light"
          }
        }
      ]
    },
    {
      "cell_type": "code",
      "metadata": {
        "colab": {
          "base_uri": "https://localhost:8080/"
        },
        "id": "fcy2zCITPycD",
        "outputId": "34298cf0-8a01-4924-96a8-9611d3bd533b"
      },
      "source": [
        "arima_rmse_error = rmse(test_data['y'], arima_pred)\n",
        "arima_mse_error = arima_rmse_error**2\n",
        "mean_value = df['y'].mean()\n",
        "\n",
        "print(f'MSE Error: {arima_mse_error}\\nRMSE Error: {arima_rmse_error}\\nMean: {mean_value}')"
      ],
      "execution_count": 71,
      "outputs": [
        {
          "output_type": "stream",
          "text": [
            "MSE Error: 281.0550323250117\n",
            "RMSE Error: 16.76469601051602\n",
            "Mean: 8.396671289875174\n"
          ],
          "name": "stdout"
        }
      ]
    },
    {
      "cell_type": "code",
      "metadata": {
        "id": "vwo_drCZTN-p"
      },
      "source": [
        "test_data['ARIMA_Predictions'] = arima_pred"
      ],
      "execution_count": 27,
      "outputs": []
    },
    {
      "cell_type": "markdown",
      "metadata": {
        "id": "jUBYqd01b6wa"
      },
      "source": [
        "Forecastung on next 50 hrs"
      ]
    },
    {
      "cell_type": "code",
      "metadata": {
        "id": "U1RrghUMg8Zz"
      },
      "source": [
        "# Forecast for the next 50 hrs\n",
        "ARIMA_forecast_next50 = arima_result.predict(start = len(df1), \n",
        "                          end = (len(df1)-1) + 50, \n",
        "                          typ = 'levels').rename('Forecast')"
      ],
      "execution_count": 98,
      "outputs": []
    },
    {
      "cell_type": "code",
      "metadata": {
        "colab": {
          "base_uri": "https://localhost:8080/"
        },
        "id": "0wT5lAInt1UB",
        "outputId": "a7085f20-5250-4310-fef4-178a1ac80a3b"
      },
      "source": [
        "ARIMA_forecast_next50.head()"
      ],
      "execution_count": 145,
      "outputs": [
        {
          "output_type": "execute_result",
          "data": {
            "text/plain": [
              "2021-05-15 13:00:00    76.428527\n",
              "2021-05-15 14:00:00    64.666960\n",
              "2021-05-15 15:00:00    68.633301\n",
              "2021-05-15 16:00:00    55.612931\n",
              "2021-05-15 17:00:00    45.326958\n",
              "Freq: H, Name: Forecast, dtype: float64"
            ]
          },
          "metadata": {
            "tags": []
          },
          "execution_count": 145
        }
      ]
    },
    {
      "cell_type": "code",
      "metadata": {
        "colab": {
          "base_uri": "https://localhost:8080/"
        },
        "id": "uq0KnFdxjeJ8",
        "outputId": "ec370c41-45f8-4aa4-a6d6-9c419d0ff082"
      },
      "source": [
        "print(df1.tail())\n",
        "print(ARIMA_forecast_next50.head())"
      ],
      "execution_count": 99,
      "outputs": [
        {
          "output_type": "stream",
          "text": [
            "                       y\n",
            "ds                      \n",
            "2021-05-15 08:00:00   75\n",
            "2021-05-15 09:00:00  100\n",
            "2021-05-15 10:00:00   92\n",
            "2021-05-15 11:00:00  102\n",
            "2021-05-15 12:00:00   51\n",
            "2021-05-15 13:00:00    76.428527\n",
            "2021-05-15 14:00:00    64.666960\n",
            "2021-05-15 15:00:00    68.633301\n",
            "2021-05-15 16:00:00    55.612931\n",
            "2021-05-15 17:00:00    45.326958\n",
            "Freq: H, Name: Forecast, dtype: float64\n"
          ],
          "name": "stdout"
        }
      ]
    },
    {
      "cell_type": "code",
      "metadata": {
        "id": "d4EgOtF1tVnm"
      },
      "source": [
        "ARIMA_forecast_next50.to_csv(r'/content/sample_data/ARIMA_forecast_next50hrs.csv')"
      ],
      "execution_count": null,
      "outputs": []
    },
    {
      "cell_type": "code",
      "metadata": {
        "colab": {
          "base_uri": "https://localhost:8080/",
          "height": 387
        },
        "id": "2652rK7DjM7_",
        "outputId": "5df8fc95-e7d9-4729-fc0c-60ccd4ff5505"
      },
      "source": [
        "# Plot the forecast values\n",
        "df1['y'].plot(figsize = (12, 5), legend = True)\n",
        "ARIMA_forecast_next50.plot(legend = True)"
      ],
      "execution_count": 100,
      "outputs": [
        {
          "output_type": "execute_result",
          "data": {
            "text/plain": [
              "<matplotlib.axes._subplots.AxesSubplot at 0x7f5fcdf9dcd0>"
            ]
          },
          "metadata": {
            "tags": []
          },
          "execution_count": 100
        },
        {
          "output_type": "display_data",
          "data": {
            "image/png": "[encoded data removed]",
            "text/plain": [
              "<Figure size 864x360 with 1 Axes>"
            ]
          },
          "metadata": {
            "tags": [],
            "needs_background": "light"
          }
        }
      ]
    },
    {
      "cell_type": "markdown",
      "metadata": {
        "id": "6weOhq68TbWa"
      },
      "source": [
        "Prophet Forecast"
      ]
    },
    {
      "cell_type": "code",
      "metadata": {
        "colab": {
          "base_uri": "https://localhost:8080/"
        },
        "id": "pcqk79BxTccn",
        "outputId": "d8c3c381-83b8-4f02-d666-769c15f6cadb"
      },
      "source": [
        "df.info()"
      ],
      "execution_count": 28,
      "outputs": [
        {
          "output_type": "stream",
          "text": [
            "<class 'pandas.core.frame.DataFrame'>\n",
            "DatetimeIndex: 721 entries, 2021-04-15 12:00:00 to 2021-05-15 12:00:00\n",
            "Data columns (total 1 columns):\n",
            " #   Column  Non-Null Count  Dtype\n",
            "---  ------  --------------  -----\n",
            " 0   y       721 non-null    int64\n",
            "dtypes: int64(1)\n",
            "memory usage: 11.3 KB\n"
          ],
          "name": "stdout"
        }
      ]
    },
    {
      "cell_type": "code",
      "metadata": {
        "id": "2JsW_l4KTcfV"
      },
      "source": [
        "df_pr = df.copy()\n",
        "df_pr = df.reset_index()"
      ],
      "execution_count": 29,
      "outputs": []
    },
    {
      "cell_type": "code",
      "metadata": {
        "id": "YnKisFJnTcpb"
      },
      "source": [
        "df_pr.columns = ['ds','y']"
      ],
      "execution_count": 30,
      "outputs": []
    },
    {
      "cell_type": "code",
      "metadata": {
        "id": "hz3OQukATcvQ"
      },
      "source": [
        "train_data_pr = df_pr.iloc[:len(df)-12]\n",
        "test_data_pr = df_pr.iloc[len(df)-12:]"
      ],
      "execution_count": 31,
      "outputs": []
    },
    {
      "cell_type": "code",
      "metadata": {
        "id": "iKs4ST5lTcyD"
      },
      "source": [
        "from fbprophet import Prophet"
      ],
      "execution_count": 32,
      "outputs": []
    },
    {
      "cell_type": "code",
      "metadata": {
        "colab": {
          "base_uri": "https://localhost:8080/"
        },
        "id": "uWhVKhtFTc0W",
        "outputId": "a0d2ea0d-f658-43fd-a407-bb9d6bc78c93"
      },
      "source": [
        "m = Prophet()\n",
        "m.fit(train_data_pr)\n",
        "future = m.make_future_dataframe(periods=62,freq='h')\n",
        "prophet_pred = m.predict(future)"
      ],
      "execution_count": 33,
      "outputs": [
        {
          "output_type": "stream",
          "text": [
            "INFO:fbprophet:Disabling yearly seasonality. Run prophet with yearly_seasonality=True to override this.\n"
          ],
          "name": "stderr"
        }
      ]
    },
    {
      "cell_type": "code",
      "metadata": {
        "id": "waVjtShsT82w",
        "colab": {
          "base_uri": "https://localhost:8080/"
        },
        "outputId": "91e51fa3-ac71-405d-c829-ed6a46531332"
      },
      "source": [
        "prophet_pred.shape"
      ],
      "execution_count": 34,
      "outputs": [
        {
          "output_type": "execute_result",
          "data": {
            "text/plain": [
              "(771, 19)"
            ]
          },
          "metadata": {
            "tags": []
          },
          "execution_count": 34
        }
      ]
    },
    {
      "cell_type": "code",
      "metadata": {
        "colab": {
          "base_uri": "https://localhost:8080/",
          "height": 395
        },
        "id": "7qroOX3eTzWB",
        "outputId": "e1293a31-33b8-4138-ec5e-21afec87b1c5"
      },
      "source": [
        "prophet_pred.tail()"
      ],
      "execution_count": 35,
      "outputs": [
        {
          "output_type": "execute_result",
          "data": {
            "text/html": [
              "<div>\n",
              "<style scoped>\n",
              "    .dataframe tbody tr th:only-of-type {\n",
              "        vertical-align: middle;\n",
              "    }\n",
              "\n",
              "    .dataframe tbody tr th {\n",
              "        vertical-align: top;\n",
              "    }\n",
              "\n",
              "    .dataframe thead th {\n",
              "        text-align: right;\n",
              "    }\n",
              "</style>\n",
              "<table border=\"1\" class=\"dataframe\">\n",
              "  <thead>\n",
              "    <tr style=\"text-align: right;\">\n",
              "      <th></th>\n",
              "      <th>ds</th>\n",
              "      <th>trend</th>\n",
              "      <th>yhat_lower</th>\n",
              "      <th>yhat_upper</th>\n",
              "      <th>trend_lower</th>\n",
              "      <th>trend_upper</th>\n",
              "      <th>additive_terms</th>\n",
              "      <th>additive_terms_lower</th>\n",
              "      <th>additive_terms_upper</th>\n",
              "      <th>daily</th>\n",
              "      <th>daily_lower</th>\n",
              "      <th>daily_upper</th>\n",
              "      <th>weekly</th>\n",
              "      <th>weekly_lower</th>\n",
              "      <th>weekly_upper</th>\n",
              "      <th>multiplicative_terms</th>\n",
              "      <th>multiplicative_terms_lower</th>\n",
              "      <th>multiplicative_terms_upper</th>\n",
              "      <th>yhat</th>\n",
              "    </tr>\n",
              "  </thead>\n",
              "  <tbody>\n",
              "    <tr>\n",
              "      <th>766</th>\n",
              "      <td>2021-05-17 10:00:00</td>\n",
              "      <td>66.657791</td>\n",
              "      <td>50.164458</td>\n",
              "      <td>86.353866</td>\n",
              "      <td>65.762983</td>\n",
              "      <td>67.377636</td>\n",
              "      <td>2.235352</td>\n",
              "      <td>2.235352</td>\n",
              "      <td>2.235352</td>\n",
              "      <td>5.929612</td>\n",
              "      <td>5.929612</td>\n",
              "      <td>5.929612</td>\n",
              "      <td>-3.694260</td>\n",
              "      <td>-3.694260</td>\n",
              "      <td>-3.694260</td>\n",
              "      <td>0.0</td>\n",
              "      <td>0.0</td>\n",
              "      <td>0.0</td>\n",
              "      <td>68.893143</td>\n",
              "    </tr>\n",
              "    <tr>\n",
              "      <th>767</th>\n",
              "      <td>2021-05-17 11:00:00</td>\n",
              "      <td>66.934155</td>\n",
              "      <td>50.575463</td>\n",
              "      <td>86.560150</td>\n",
              "      <td>66.012430</td>\n",
              "      <td>67.675939</td>\n",
              "      <td>1.901442</td>\n",
              "      <td>1.901442</td>\n",
              "      <td>1.901442</td>\n",
              "      <td>5.901420</td>\n",
              "      <td>5.901420</td>\n",
              "      <td>5.901420</td>\n",
              "      <td>-3.999978</td>\n",
              "      <td>-3.999978</td>\n",
              "      <td>-3.999978</td>\n",
              "      <td>0.0</td>\n",
              "      <td>0.0</td>\n",
              "      <td>0.0</td>\n",
              "      <td>68.835597</td>\n",
              "    </tr>\n",
              "    <tr>\n",
              "      <th>768</th>\n",
              "      <td>2021-05-17 12:00:00</td>\n",
              "      <td>67.210518</td>\n",
              "      <td>51.568112</td>\n",
              "      <td>87.232350</td>\n",
              "      <td>66.262645</td>\n",
              "      <td>67.974816</td>\n",
              "      <td>1.589395</td>\n",
              "      <td>1.589395</td>\n",
              "      <td>1.589395</td>\n",
              "      <td>5.896485</td>\n",
              "      <td>5.896485</td>\n",
              "      <td>5.896485</td>\n",
              "      <td>-4.307090</td>\n",
              "      <td>-4.307090</td>\n",
              "      <td>-4.307090</td>\n",
              "      <td>0.0</td>\n",
              "      <td>0.0</td>\n",
              "      <td>0.0</td>\n",
              "      <td>68.799913</td>\n",
              "    </tr>\n",
              "    <tr>\n",
              "      <th>769</th>\n",
              "      <td>2021-05-17 13:00:00</td>\n",
              "      <td>67.486881</td>\n",
              "      <td>50.227996</td>\n",
              "      <td>87.251165</td>\n",
              "      <td>66.514841</td>\n",
              "      <td>68.277860</td>\n",
              "      <td>1.236391</td>\n",
              "      <td>1.236391</td>\n",
              "      <td>1.236391</td>\n",
              "      <td>5.849629</td>\n",
              "      <td>5.849629</td>\n",
              "      <td>5.849629</td>\n",
              "      <td>-4.613237</td>\n",
              "      <td>-4.613237</td>\n",
              "      <td>-4.613237</td>\n",
              "      <td>0.0</td>\n",
              "      <td>0.0</td>\n",
              "      <td>0.0</td>\n",
              "      <td>68.723272</td>\n",
              "    </tr>\n",
              "    <tr>\n",
              "      <th>770</th>\n",
              "      <td>2021-05-17 14:00:00</td>\n",
              "      <td>67.763244</td>\n",
              "      <td>49.515578</td>\n",
              "      <td>85.216643</td>\n",
              "      <td>66.758861</td>\n",
              "      <td>68.574311</td>\n",
              "      <td>0.649364</td>\n",
              "      <td>0.649364</td>\n",
              "      <td>0.649364</td>\n",
              "      <td>5.565331</td>\n",
              "      <td>5.565331</td>\n",
              "      <td>5.565331</td>\n",
              "      <td>-4.915967</td>\n",
              "      <td>-4.915967</td>\n",
              "      <td>-4.915967</td>\n",
              "      <td>0.0</td>\n",
              "      <td>0.0</td>\n",
              "      <td>0.0</td>\n",
              "      <td>68.412608</td>\n",
              "    </tr>\n",
              "  </tbody>\n",
              "</table>\n",
              "</div>"
            ],
            "text/plain": [
              "                     ds      trend  ...  multiplicative_terms_upper       yhat\n",
              "766 2021-05-17 10:00:00  66.657791  ...                         0.0  68.893143\n",
              "767 2021-05-17 11:00:00  66.934155  ...                         0.0  68.835597\n",
              "768 2021-05-17 12:00:00  67.210518  ...                         0.0  68.799913\n",
              "769 2021-05-17 13:00:00  67.486881  ...                         0.0  68.723272\n",
              "770 2021-05-17 14:00:00  67.763244  ...                         0.0  68.412608\n",
              "\n",
              "[5 rows x 19 columns]"
            ]
          },
          "metadata": {
            "tags": []
          },
          "execution_count": 35
        }
      ]
    },
    {
      "cell_type": "code",
      "metadata": {
        "id": "k8WYSswQhahV"
      },
      "source": [
        "prophet_pred1 = prophet_pred.copy()"
      ],
      "execution_count": 36,
      "outputs": []
    },
    {
      "cell_type": "code",
      "metadata": {
        "id": "WZKhT9SOTzZc"
      },
      "source": [
        "prophet_pred = pd.DataFrame({\"Date\" : prophet_pred[-12:]['ds'], \"Pred\" : prophet_pred[-12:][\"yhat\"]})"
      ],
      "execution_count": 37,
      "outputs": []
    },
    {
      "cell_type": "code",
      "metadata": {
        "id": "8PzJ_EZ6TzbV"
      },
      "source": [
        "prophet_pred = prophet_pred.set_index(\"Date\")"
      ],
      "execution_count": 38,
      "outputs": []
    },
    {
      "cell_type": "code",
      "metadata": {
        "id": "OU1ZFntQUi1E"
      },
      "source": [
        "prophet_pred.index.freq = \"H\""
      ],
      "execution_count": 39,
      "outputs": []
    },
    {
      "cell_type": "code",
      "metadata": {
        "colab": {
          "base_uri": "https://localhost:8080/",
          "height": 447
        },
        "id": "Dt1yQgrtUi4D",
        "outputId": "97472c27-37bf-4b82-957d-14586210f544"
      },
      "source": [
        "prophet_pred"
      ],
      "execution_count": 40,
      "outputs": [
        {
          "output_type": "execute_result",
          "data": {
            "text/html": [
              "<div>\n",
              "<style scoped>\n",
              "    .dataframe tbody tr th:only-of-type {\n",
              "        vertical-align: middle;\n",
              "    }\n",
              "\n",
              "    .dataframe tbody tr th {\n",
              "        vertical-align: top;\n",
              "    }\n",
              "\n",
              "    .dataframe thead th {\n",
              "        text-align: right;\n",
              "    }\n",
              "</style>\n",
              "<table border=\"1\" class=\"dataframe\">\n",
              "  <thead>\n",
              "    <tr style=\"text-align: right;\">\n",
              "      <th></th>\n",
              "      <th>Pred</th>\n",
              "    </tr>\n",
              "    <tr>\n",
              "      <th>Date</th>\n",
              "      <th></th>\n",
              "    </tr>\n",
              "  </thead>\n",
              "  <tbody>\n",
              "    <tr>\n",
              "      <th>2021-05-17 03:00:00</th>\n",
              "      <td>56.867246</td>\n",
              "    </tr>\n",
              "    <tr>\n",
              "      <th>2021-05-17 04:00:00</th>\n",
              "      <td>58.137753</td>\n",
              "    </tr>\n",
              "    <tr>\n",
              "      <th>2021-05-17 05:00:00</th>\n",
              "      <td>60.351460</td>\n",
              "    </tr>\n",
              "    <tr>\n",
              "      <th>2021-05-17 06:00:00</th>\n",
              "      <td>63.190868</td>\n",
              "    </tr>\n",
              "    <tr>\n",
              "      <th>2021-05-17 07:00:00</th>\n",
              "      <td>65.911137</td>\n",
              "    </tr>\n",
              "    <tr>\n",
              "      <th>2021-05-17 08:00:00</th>\n",
              "      <td>67.821448</td>\n",
              "    </tr>\n",
              "    <tr>\n",
              "      <th>2021-05-17 09:00:00</th>\n",
              "      <td>68.713483</td>\n",
              "    </tr>\n",
              "    <tr>\n",
              "      <th>2021-05-17 10:00:00</th>\n",
              "      <td>68.893143</td>\n",
              "    </tr>\n",
              "    <tr>\n",
              "      <th>2021-05-17 11:00:00</th>\n",
              "      <td>68.835597</td>\n",
              "    </tr>\n",
              "    <tr>\n",
              "      <th>2021-05-17 12:00:00</th>\n",
              "      <td>68.799913</td>\n",
              "    </tr>\n",
              "    <tr>\n",
              "      <th>2021-05-17 13:00:00</th>\n",
              "      <td>68.723272</td>\n",
              "    </tr>\n",
              "    <tr>\n",
              "      <th>2021-05-17 14:00:00</th>\n",
              "      <td>68.412608</td>\n",
              "    </tr>\n",
              "  </tbody>\n",
              "</table>\n",
              "</div>"
            ],
            "text/plain": [
              "                          Pred\n",
              "Date                          \n",
              "2021-05-17 03:00:00  56.867246\n",
              "2021-05-17 04:00:00  58.137753\n",
              "2021-05-17 05:00:00  60.351460\n",
              "2021-05-17 06:00:00  63.190868\n",
              "2021-05-17 07:00:00  65.911137\n",
              "2021-05-17 08:00:00  67.821448\n",
              "2021-05-17 09:00:00  68.713483\n",
              "2021-05-17 10:00:00  68.893143\n",
              "2021-05-17 11:00:00  68.835597\n",
              "2021-05-17 12:00:00  68.799913\n",
              "2021-05-17 13:00:00  68.723272\n",
              "2021-05-17 14:00:00  68.412608"
            ]
          },
          "metadata": {
            "tags": []
          },
          "execution_count": 40
        }
      ]
    },
    {
      "cell_type": "code",
      "metadata": {
        "id": "cKQo6rXAUrDk"
      },
      "source": [
        "test_data[\"Prophet_Predictions\"] = prophet_pred['Pred'].values"
      ],
      "execution_count": 41,
      "outputs": []
    },
    {
      "cell_type": "code",
      "metadata": {
        "id": "UnHZ1dEkUrG_"
      },
      "source": [
        "import seaborn as sns"
      ],
      "execution_count": 42,
      "outputs": []
    },
    {
      "cell_type": "code",
      "metadata": {
        "colab": {
          "base_uri": "https://localhost:8080/",
          "height": 334
        },
        "id": "7Gt9446PUrKo",
        "outputId": "9cd86351-6f88-45fa-f26d-f0a047cd7dc4"
      },
      "source": [
        "plt.figure(figsize=(16,5))\n",
        "ax = sns.lineplot(x= test_data.index, y=test_data[\"y\"],label='y')\n",
        "sns.lineplot(x=test_data.index, y = test_data[\"Prophet_Predictions\"],label='Prophet_Predictions');"
      ],
      "execution_count": 43,
      "outputs": [
        {
          "output_type": "display_data",
          "data": {
            "image/png": "[encoded data removed]",
            "text/plain": [
              "<Figure size 1152x360 with 1 Axes>"
            ]
          },
          "metadata": {
            "tags": [],
            "needs_background": "light"
          }
        }
      ]
    },
    {
      "cell_type": "code",
      "metadata": {
        "colab": {
          "base_uri": "https://localhost:8080/"
        },
        "id": "WapEmNSkUrM0",
        "outputId": "7269bc0e-7d9b-4e1a-aeee-5e7b6a1baef8"
      },
      "source": [
        "prophet_rmse_error = rmse(test_data['y'], test_data[\"Prophet_Predictions\"])\n",
        "prophet_mse_error = prophet_rmse_error**2\n",
        "mean_value = df['y'].mean()\n",
        "\n",
        "print(f'MSE Error: {prophet_mse_error}\\nRMSE Error: {prophet_rmse_error}\\nMean: {mean_value}')"
      ],
      "execution_count": 44,
      "outputs": [
        {
          "output_type": "stream",
          "text": [
            "MSE Error: 1565.1171930667526\n",
            "RMSE Error: 39.5615620655549\n",
            "Mean: 8.396671289875174\n"
          ],
          "name": "stdout"
        }
      ]
    },
    {
      "cell_type": "code",
      "metadata": {
        "colab": {
          "base_uri": "https://localhost:8080/",
          "height": 482
        },
        "id": "MWhGQoKg_xqV",
        "outputId": "dcae296d-ae75-46cd-a38f-e88d428e6af5"
      },
      "source": [
        "print(test_data['y'].shape)\n",
        "print(test_data[\"Prophet_Predictions\"].shape)\n",
        "test_data.head(12)"
      ],
      "execution_count": 45,
      "outputs": [
        {
          "output_type": "stream",
          "text": [
            "(12,)\n",
            "(12,)\n"
          ],
          "name": "stdout"
        },
        {
          "output_type": "execute_result",
          "data": {
            "text/html": [
              "<div>\n",
              "<style scoped>\n",
              "    .dataframe tbody tr th:only-of-type {\n",
              "        vertical-align: middle;\n",
              "    }\n",
              "\n",
              "    .dataframe tbody tr th {\n",
              "        vertical-align: top;\n",
              "    }\n",
              "\n",
              "    .dataframe thead th {\n",
              "        text-align: right;\n",
              "    }\n",
              "</style>\n",
              "<table border=\"1\" class=\"dataframe\">\n",
              "  <thead>\n",
              "    <tr style=\"text-align: right;\">\n",
              "      <th></th>\n",
              "      <th>y</th>\n",
              "      <th>ARIMA_Predictions</th>\n",
              "      <th>Prophet_Predictions</th>\n",
              "    </tr>\n",
              "    <tr>\n",
              "      <th>ds</th>\n",
              "      <th></th>\n",
              "      <th></th>\n",
              "      <th></th>\n",
              "    </tr>\n",
              "  </thead>\n",
              "  <tbody>\n",
              "    <tr>\n",
              "      <th>2021-05-15 01:00:00</th>\n",
              "      <td>5</td>\n",
              "      <td>-2.001042</td>\n",
              "      <td>56.867246</td>\n",
              "    </tr>\n",
              "    <tr>\n",
              "      <th>2021-05-15 02:00:00</th>\n",
              "      <td>1</td>\n",
              "      <td>-0.978309</td>\n",
              "      <td>58.137753</td>\n",
              "    </tr>\n",
              "    <tr>\n",
              "      <th>2021-05-15 03:00:00</th>\n",
              "      <td>0</td>\n",
              "      <td>-1.971162</td>\n",
              "      <td>60.351460</td>\n",
              "    </tr>\n",
              "    <tr>\n",
              "      <th>2021-05-15 04:00:00</th>\n",
              "      <td>6</td>\n",
              "      <td>4.463638</td>\n",
              "      <td>63.190868</td>\n",
              "    </tr>\n",
              "    <tr>\n",
              "      <th>2021-05-15 05:00:00</th>\n",
              "      <td>26</td>\n",
              "      <td>27.016595</td>\n",
              "      <td>65.911137</td>\n",
              "    </tr>\n",
              "    <tr>\n",
              "      <th>2021-05-15 06:00:00</th>\n",
              "      <td>31</td>\n",
              "      <td>41.649047</td>\n",
              "      <td>67.821448</td>\n",
              "    </tr>\n",
              "    <tr>\n",
              "      <th>2021-05-15 07:00:00</th>\n",
              "      <td>66</td>\n",
              "      <td>48.696531</td>\n",
              "      <td>68.713483</td>\n",
              "    </tr>\n",
              "    <tr>\n",
              "      <th>2021-05-15 08:00:00</th>\n",
              "      <td>75</td>\n",
              "      <td>65.703623</td>\n",
              "      <td>68.893143</td>\n",
              "    </tr>\n",
              "    <tr>\n",
              "      <th>2021-05-15 09:00:00</th>\n",
              "      <td>100</td>\n",
              "      <td>75.224006</td>\n",
              "      <td>68.835597</td>\n",
              "    </tr>\n",
              "    <tr>\n",
              "      <th>2021-05-15 10:00:00</th>\n",
              "      <td>92</td>\n",
              "      <td>67.905991</td>\n",
              "      <td>68.799913</td>\n",
              "    </tr>\n",
              "    <tr>\n",
              "      <th>2021-05-15 11:00:00</th>\n",
              "      <td>102</td>\n",
              "      <td>65.049189</td>\n",
              "      <td>68.723272</td>\n",
              "    </tr>\n",
              "    <tr>\n",
              "      <th>2021-05-15 12:00:00</th>\n",
              "      <td>51</td>\n",
              "      <td>66.921189</td>\n",
              "      <td>68.412608</td>\n",
              "    </tr>\n",
              "  </tbody>\n",
              "</table>\n",
              "</div>"
            ],
            "text/plain": [
              "                       y  ARIMA_Predictions  Prophet_Predictions\n",
              "ds                                                              \n",
              "2021-05-15 01:00:00    5          -2.001042            56.867246\n",
              "2021-05-15 02:00:00    1          -0.978309            58.137753\n",
              "2021-05-15 03:00:00    0          -1.971162            60.351460\n",
              "2021-05-15 04:00:00    6           4.463638            63.190868\n",
              "2021-05-15 05:00:00   26          27.016595            65.911137\n",
              "2021-05-15 06:00:00   31          41.649047            67.821448\n",
              "2021-05-15 07:00:00   66          48.696531            68.713483\n",
              "2021-05-15 08:00:00   75          65.703623            68.893143\n",
              "2021-05-15 09:00:00  100          75.224006            68.835597\n",
              "2021-05-15 10:00:00   92          67.905991            68.799913\n",
              "2021-05-15 11:00:00  102          65.049189            68.723272\n",
              "2021-05-15 12:00:00   51          66.921189            68.412608"
            ]
          },
          "metadata": {
            "tags": []
          },
          "execution_count": 45
        }
      ]
    },
    {
      "cell_type": "code",
      "metadata": {
        "colab": {
          "base_uri": "https://localhost:8080/"
        },
        "id": "Fijd0Ust9tc5",
        "outputId": "fa5f6390-2737-40c8-a718-caca3d30b92f"
      },
      "source": [
        " mape = np.mean(np.abs(test_data[\"Prophet_Predictions\"] - test_data['y'])/np.abs(test_data['y']))  # MAPE\n",
        " mape"
      ],
      "execution_count": 46,
      "outputs": [
        {
          "output_type": "execute_result",
          "data": {
            "text/plain": [
              "inf"
            ]
          },
          "metadata": {
            "tags": []
          },
          "execution_count": 46
        }
      ]
    },
    {
      "cell_type": "markdown",
      "metadata": {
        "id": "Pzr2Xn0PmzWy"
      },
      "source": [
        "Prophet forecast for next 50hrs"
      ]
    },
    {
      "cell_type": "code",
      "metadata": {
        "colab": {
          "base_uri": "https://localhost:8080/",
          "height": 134
        },
        "id": "44Qg-Y9rnJYa",
        "outputId": "6af1bb7c-49b2-4409-d99c-5892b62fbf8c"
      },
      "source": [
        "prophet_pred1.tail(1)"
      ],
      "execution_count": null,
      "outputs": [
        {
          "output_type": "execute_result",
          "data": {
            "text/html": [
              "<div>\n",
              "<style scoped>\n",
              "    .dataframe tbody tr th:only-of-type {\n",
              "        vertical-align: middle;\n",
              "    }\n",
              "\n",
              "    .dataframe tbody tr th {\n",
              "        vertical-align: top;\n",
              "    }\n",
              "\n",
              "    .dataframe thead th {\n",
              "        text-align: right;\n",
              "    }\n",
              "</style>\n",
              "<table border=\"1\" class=\"dataframe\">\n",
              "  <thead>\n",
              "    <tr style=\"text-align: right;\">\n",
              "      <th></th>\n",
              "      <th>ds</th>\n",
              "      <th>trend</th>\n",
              "      <th>yhat_lower</th>\n",
              "      <th>yhat_upper</th>\n",
              "      <th>trend_lower</th>\n",
              "      <th>trend_upper</th>\n",
              "      <th>additive_terms</th>\n",
              "      <th>additive_terms_lower</th>\n",
              "      <th>additive_terms_upper</th>\n",
              "      <th>daily</th>\n",
              "      <th>daily_lower</th>\n",
              "      <th>daily_upper</th>\n",
              "      <th>weekly</th>\n",
              "      <th>weekly_lower</th>\n",
              "      <th>weekly_upper</th>\n",
              "      <th>multiplicative_terms</th>\n",
              "      <th>multiplicative_terms_lower</th>\n",
              "      <th>multiplicative_terms_upper</th>\n",
              "      <th>yhat</th>\n",
              "    </tr>\n",
              "  </thead>\n",
              "  <tbody>\n",
              "    <tr>\n",
              "      <th>770</th>\n",
              "      <td>2021-05-17 14:00:00</td>\n",
              "      <td>-0.697415</td>\n",
              "      <td>-25.253834</td>\n",
              "      <td>17.789001</td>\n",
              "      <td>-2.900315</td>\n",
              "      <td>1.738048</td>\n",
              "      <td>-2.608525</td>\n",
              "      <td>-2.608525</td>\n",
              "      <td>-2.608525</td>\n",
              "      <td>-1.132998</td>\n",
              "      <td>-1.132998</td>\n",
              "      <td>-1.132998</td>\n",
              "      <td>-1.475527</td>\n",
              "      <td>-1.475527</td>\n",
              "      <td>-1.475527</td>\n",
              "      <td>0.0</td>\n",
              "      <td>0.0</td>\n",
              "      <td>0.0</td>\n",
              "      <td>-3.30594</td>\n",
              "    </tr>\n",
              "  </tbody>\n",
              "</table>\n",
              "</div>"
            ],
            "text/plain": [
              "                     ds     trend  ...  multiplicative_terms_upper     yhat\n",
              "770 2021-05-17 14:00:00 -0.697415  ...                         0.0 -3.30594\n",
              "\n",
              "[1 rows x 19 columns]"
            ]
          },
          "metadata": {
            "tags": []
          },
          "execution_count": 85
        }
      ]
    },
    {
      "cell_type": "code",
      "metadata": {
        "id": "r3T7IV-MmyaU"
      },
      "source": [
        "prophet_forecast_next50 = pd.DataFrame({\"Date\" : prophet_pred1[-50:]['ds'], \"Pred\" : prophet_pred1[-50:][\"yhat\"],\"lower\" : prophet_pred1[-50:][\"yhat_lower\"],\"upper\" : prophet_pred1[-50:][\"yhat_upper\"]})"
      ],
      "execution_count": null,
      "outputs": []
    },
    {
      "cell_type": "code",
      "metadata": {
        "colab": {
          "base_uri": "https://localhost:8080/",
          "height": 219
        },
        "id": "FdRFZy-RmyeE",
        "outputId": "ecfd2df9-0e3c-4de6-f92c-74e513fe2bee"
      },
      "source": [
        "print(prophet_forecast_next50.shape)\n",
        "prophet_forecast_next50.head()"
      ],
      "execution_count": null,
      "outputs": [
        {
          "output_type": "stream",
          "text": [
            "(50, 4)\n"
          ],
          "name": "stdout"
        },
        {
          "output_type": "execute_result",
          "data": {
            "text/html": [
              "<div>\n",
              "<style scoped>\n",
              "    .dataframe tbody tr th:only-of-type {\n",
              "        vertical-align: middle;\n",
              "    }\n",
              "\n",
              "    .dataframe tbody tr th {\n",
              "        vertical-align: top;\n",
              "    }\n",
              "\n",
              "    .dataframe thead th {\n",
              "        text-align: right;\n",
              "    }\n",
              "</style>\n",
              "<table border=\"1\" class=\"dataframe\">\n",
              "  <thead>\n",
              "    <tr style=\"text-align: right;\">\n",
              "      <th></th>\n",
              "      <th>Date</th>\n",
              "      <th>Pred</th>\n",
              "      <th>lower</th>\n",
              "      <th>upper</th>\n",
              "    </tr>\n",
              "  </thead>\n",
              "  <tbody>\n",
              "    <tr>\n",
              "      <th>721</th>\n",
              "      <td>2021-05-15 13:00:00</td>\n",
              "      <td>-10.324568</td>\n",
              "      <td>-31.196078</td>\n",
              "      <td>11.563131</td>\n",
              "    </tr>\n",
              "    <tr>\n",
              "      <th>722</th>\n",
              "      <td>2021-05-15 14:00:00</td>\n",
              "      <td>-9.205074</td>\n",
              "      <td>-30.839209</td>\n",
              "      <td>12.868528</td>\n",
              "    </tr>\n",
              "    <tr>\n",
              "      <th>723</th>\n",
              "      <td>2021-05-15 15:00:00</td>\n",
              "      <td>-8.472254</td>\n",
              "      <td>-30.599009</td>\n",
              "      <td>13.353618</td>\n",
              "    </tr>\n",
              "    <tr>\n",
              "      <th>724</th>\n",
              "      <td>2021-05-15 16:00:00</td>\n",
              "      <td>-8.415795</td>\n",
              "      <td>-29.451611</td>\n",
              "      <td>12.474648</td>\n",
              "    </tr>\n",
              "    <tr>\n",
              "      <th>725</th>\n",
              "      <td>2021-05-15 17:00:00</td>\n",
              "      <td>-8.522790</td>\n",
              "      <td>-28.854189</td>\n",
              "      <td>12.685690</td>\n",
              "    </tr>\n",
              "  </tbody>\n",
              "</table>\n",
              "</div>"
            ],
            "text/plain": [
              "                   Date       Pred      lower      upper\n",
              "721 2021-05-15 13:00:00 -10.324568 -31.196078  11.563131\n",
              "722 2021-05-15 14:00:00  -9.205074 -30.839209  12.868528\n",
              "723 2021-05-15 15:00:00  -8.472254 -30.599009  13.353618\n",
              "724 2021-05-15 16:00:00  -8.415795 -29.451611  12.474648\n",
              "725 2021-05-15 17:00:00  -8.522790 -28.854189  12.685690"
            ]
          },
          "metadata": {
            "tags": []
          },
          "execution_count": 88
        }
      ]
    },
    {
      "cell_type": "code",
      "metadata": {
        "id": "-22pv22iuEGK"
      },
      "source": [
        "prophet_forecast_next50.to_csv(r'/content/sample_data/Prophet_forecast_next50hrs.csv')"
      ],
      "execution_count": null,
      "outputs": []
    },
    {
      "cell_type": "code",
      "metadata": {
        "colab": {
          "base_uri": "https://localhost:8080/",
          "height": 202
        },
        "id": "-TZSwFu8pE3q",
        "outputId": "93f4c121-8933-48a9-e7c7-aa5965eddb72"
      },
      "source": [
        "forecast = pd.DataFrame({\"ds\" : prophet_pred1[-50:]['ds'], \"y\" : prophet_pred1[-50:][\"yhat\"]})\n",
        "forecast.head()"
      ],
      "execution_count": null,
      "outputs": [
        {
          "output_type": "execute_result",
          "data": {
            "text/html": [
              "<div>\n",
              "<style scoped>\n",
              "    .dataframe tbody tr th:only-of-type {\n",
              "        vertical-align: middle;\n",
              "    }\n",
              "\n",
              "    .dataframe tbody tr th {\n",
              "        vertical-align: top;\n",
              "    }\n",
              "\n",
              "    .dataframe thead th {\n",
              "        text-align: right;\n",
              "    }\n",
              "</style>\n",
              "<table border=\"1\" class=\"dataframe\">\n",
              "  <thead>\n",
              "    <tr style=\"text-align: right;\">\n",
              "      <th></th>\n",
              "      <th>ds</th>\n",
              "      <th>y</th>\n",
              "    </tr>\n",
              "  </thead>\n",
              "  <tbody>\n",
              "    <tr>\n",
              "      <th>721</th>\n",
              "      <td>2021-05-15 13:00:00</td>\n",
              "      <td>-10.324568</td>\n",
              "    </tr>\n",
              "    <tr>\n",
              "      <th>722</th>\n",
              "      <td>2021-05-15 14:00:00</td>\n",
              "      <td>-9.205074</td>\n",
              "    </tr>\n",
              "    <tr>\n",
              "      <th>723</th>\n",
              "      <td>2021-05-15 15:00:00</td>\n",
              "      <td>-8.472254</td>\n",
              "    </tr>\n",
              "    <tr>\n",
              "      <th>724</th>\n",
              "      <td>2021-05-15 16:00:00</td>\n",
              "      <td>-8.415795</td>\n",
              "    </tr>\n",
              "    <tr>\n",
              "      <th>725</th>\n",
              "      <td>2021-05-15 17:00:00</td>\n",
              "      <td>-8.522790</td>\n",
              "    </tr>\n",
              "  </tbody>\n",
              "</table>\n",
              "</div>"
            ],
            "text/plain": [
              "                     ds          y\n",
              "721 2021-05-15 13:00:00 -10.324568\n",
              "722 2021-05-15 14:00:00  -9.205074\n",
              "723 2021-05-15 15:00:00  -8.472254\n",
              "724 2021-05-15 16:00:00  -8.415795\n",
              "725 2021-05-15 17:00:00  -8.522790"
            ]
          },
          "metadata": {
            "tags": []
          },
          "execution_count": 90
        }
      ]
    },
    {
      "cell_type": "code",
      "metadata": {
        "colab": {
          "base_uri": "https://localhost:8080/"
        },
        "id": "eiP2YnHDqNn9",
        "outputId": "f11727ba-0906-41ce-e620-9be23c4db88a"
      },
      "source": [
        "print(df1.tail())\n",
        "print(forecast.head())"
      ],
      "execution_count": null,
      "outputs": [
        {
          "output_type": "stream",
          "text": [
            "                      y\n",
            "ds                     \n",
            "2021-05-15 08:00:00  12\n",
            "2021-05-15 09:00:00  13\n",
            "2021-05-15 10:00:00  16\n",
            "2021-05-15 11:00:00  16\n",
            "2021-05-15 12:00:00  15\n",
            "                             y\n",
            "ds                            \n",
            "2021-05-15 13:00:00  12.153541\n",
            "2021-05-15 14:00:00  12.147752\n",
            "2021-05-15 15:00:00  11.926505\n",
            "2021-05-15 16:00:00  11.600720\n",
            "2021-05-15 17:00:00  11.298742\n"
          ],
          "name": "stdout"
        }
      ]
    },
    {
      "cell_type": "code",
      "metadata": {
        "id": "2vM6-4o8mylR"
      },
      "source": [
        ""
      ],
      "execution_count": null,
      "outputs": []
    },
    {
      "cell_type": "markdown",
      "metadata": {
        "id": "BNSweom6Vhxg"
      },
      "source": [
        "LSTM Forecast"
      ]
    },
    {
      "cell_type": "code",
      "metadata": {
        "id": "JvlKobcVVis-"
      },
      "source": [
        "from sklearn.preprocessing import MinMaxScaler\n",
        "scaler = MinMaxScaler()"
      ],
      "execution_count": 47,
      "outputs": []
    },
    {
      "cell_type": "code",
      "metadata": {
        "id": "ZP_KxCoPVivu"
      },
      "source": [
        "scaler.fit(train_data)\n",
        "scaled_train_data = scaler.transform(train_data)\n",
        "scaled_test_data = scaler.transform(test_data)"
      ],
      "execution_count": 48,
      "outputs": []
    },
    {
      "cell_type": "code",
      "metadata": {
        "id": "0a1SYKPaViye"
      },
      "source": [
        "from keras.preprocessing.sequence import TimeseriesGenerator\n",
        "\n",
        "n_input = 12\n",
        "n_features= 1\n",
        "generator = TimeseriesGenerator(scaled_train_data, scaled_train_data, length=n_input, batch_size=1)"
      ],
      "execution_count": 49,
      "outputs": []
    },
    {
      "cell_type": "code",
      "metadata": {
        "colab": {
          "base_uri": "https://localhost:8080/"
        },
        "id": "alEaksqcVi2B",
        "outputId": "2725ea57-cb83-439a-b76b-fd01e57ead3e"
      },
      "source": [
        "from keras.models import Sequential\n",
        "from keras.layers import Dense\n",
        "from keras.layers import LSTM\n",
        "\n",
        "lstm_model = Sequential()\n",
        "lstm_model.add(LSTM(500, activation='relu', input_shape=(n_input, n_features)))\n",
        "lstm_model.add(Dense(1))\n",
        "lstm_model.compile(optimizer='adam', loss='mse')\n",
        "\n",
        "lstm_model.summary()"
      ],
      "execution_count": 50,
      "outputs": [
        {
          "output_type": "stream",
          "text": [
            "Model: \"sequential\"\n",
            "_________________________________________________________________\n",
            "Layer (type)                 Output Shape              Param #   \n",
            "=================================================================\n",
            "lstm (LSTM)                  (None, 500)               1004000   \n",
            "_________________________________________________________________\n",
            "dense (Dense)                (None, 1)                 501       \n",
            "=================================================================\n",
            "Total params: 1,004,501\n",
            "Trainable params: 1,004,501\n",
            "Non-trainable params: 0\n",
            "_________________________________________________________________\n"
          ],
          "name": "stdout"
        }
      ]
    },
    {
      "cell_type": "code",
      "metadata": {
        "colab": {
          "base_uri": "https://localhost:8080/"
        },
        "id": "BXbNqw2mVi4H",
        "outputId": "c80f6041-5c37-4e94-c25b-5d8b193ad7d8"
      },
      "source": [
        "lstm_model.fit_generator(generator,epochs=30)"
      ],
      "execution_count": 51,
      "outputs": [
        {
          "output_type": "stream",
          "text": [
            "Epoch 1/30\n",
            "697/697 [==============================] - 46s 34ms/step - loss: 0.0162\n",
            "Epoch 2/30\n",
            "697/697 [==============================] - 24s 34ms/step - loss: 0.0115\n",
            "Epoch 3/30\n",
            "697/697 [==============================] - 24s 35ms/step - loss: 0.0047\n",
            "Epoch 4/30\n",
            "697/697 [==============================] - 24s 35ms/step - loss: 0.0041\n",
            "Epoch 5/30\n",
            "697/697 [==============================] - 24s 34ms/step - loss: 0.0038\n",
            "Epoch 6/30\n",
            "697/697 [==============================] - 24s 34ms/step - loss: 0.0029\n",
            "Epoch 7/30\n",
            "697/697 [==============================] - 24s 34ms/step - loss: 0.0020\n",
            "Epoch 8/30\n",
            "697/697 [==============================] - 24s 35ms/step - loss: 0.0025\n",
            "Epoch 9/30\n",
            "697/697 [==============================] - 24s 34ms/step - loss: 0.0021\n",
            "Epoch 10/30\n",
            "697/697 [==============================] - 24s 35ms/step - loss: 0.0023\n",
            "Epoch 11/30\n",
            "697/697 [==============================] - 24s 34ms/step - loss: 0.0020\n",
            "Epoch 12/30\n",
            "697/697 [==============================] - 24s 34ms/step - loss: 0.0016\n",
            "Epoch 13/30\n",
            "697/697 [==============================] - 24s 34ms/step - loss: 0.0037\n",
            "Epoch 14/30\n",
            "697/697 [==============================] - 24s 34ms/step - loss: 0.0019\n",
            "Epoch 15/30\n",
            "697/697 [==============================] - 25s 35ms/step - loss: 0.0012\n",
            "Epoch 16/30\n",
            "697/697 [==============================] - 24s 35ms/step - loss: 0.0036\n",
            "Epoch 17/30\n",
            "697/697 [==============================] - 24s 35ms/step - loss: 0.0018\n",
            "Epoch 18/30\n",
            "697/697 [==============================] - 24s 34ms/step - loss: 0.0016\n",
            "Epoch 19/30\n",
            "697/697 [==============================] - 24s 35ms/step - loss: 0.0017\n",
            "Epoch 20/30\n",
            "697/697 [==============================] - 24s 35ms/step - loss: 0.0020\n",
            "Epoch 21/30\n",
            "697/697 [==============================] - 24s 35ms/step - loss: 0.0011\n",
            "Epoch 22/30\n",
            "697/697 [==============================] - 24s 35ms/step - loss: 0.0016\n",
            "Epoch 23/30\n",
            "697/697 [==============================] - 25s 36ms/step - loss: 0.0016\n",
            "Epoch 24/30\n",
            "697/697 [==============================] - 24s 35ms/step - loss: 0.0015\n",
            "Epoch 25/30\n",
            "697/697 [==============================] - 24s 35ms/step - loss: 0.0015\n",
            "Epoch 26/30\n",
            "697/697 [==============================] - 25s 36ms/step - loss: 0.0015\n",
            "Epoch 27/30\n",
            "697/697 [==============================] - 24s 34ms/step - loss: 0.0022\n",
            "Epoch 28/30\n",
            "697/697 [==============================] - 24s 35ms/step - loss: 0.0016\n",
            "Epoch 29/30\n",
            "697/697 [==============================] - 24s 34ms/step - loss: 0.0014\n",
            "Epoch 30/30\n",
            "697/697 [==============================] - 24s 35ms/step - loss: 0.0015\n"
          ],
          "name": "stdout"
        },
        {
          "output_type": "execute_result",
          "data": {
            "text/plain": [
              "<keras.callbacks.History at 0x7f5fcfc3ae50>"
            ]
          },
          "metadata": {
            "tags": []
          },
          "execution_count": 51
        }
      ]
    },
    {
      "cell_type": "code",
      "metadata": {
        "colab": {
          "base_uri": "https://localhost:8080/",
          "height": 265
        },
        "id": "oq0vtgUpVi7I",
        "outputId": "67b87870-12cb-4edc-aed2-f0c792eedff5"
      },
      "source": [
        "losses_lstm = lstm_model.history.history['loss']\n",
        "plt.figure(figsize=(12,4))\n",
        "plt.xticks(np.arange(0,21,1))\n",
        "plt.plot(range(len(losses_lstm)),losses_lstm);"
      ],
      "execution_count": 52,
      "outputs": [
        {
          "output_type": "display_data",
          "data": {
            "image/png": "[encoded data removed]",
            "text/plain": [
              "<Figure size 864x288 with 1 Axes>"
            ]
          },
          "metadata": {
            "tags": [],
            "needs_background": "light"
          }
        }
      ]
    },
    {
      "cell_type": "code",
      "metadata": {
        "id": "m-E0-cQ6Vi9j"
      },
      "source": [
        "lstm_predictions_scaled = list()\n",
        "\n",
        "batch = scaled_train_data[-n_input:]\n",
        "current_batch = batch.reshape((1, n_input, n_features))\n",
        "\n",
        "for i in range(len(test_data)):   \n",
        "    lstm_pred = lstm_model.predict(current_batch)[0]\n",
        "    lstm_predictions_scaled.append(lstm_pred) \n",
        "    current_batch = np.append(current_batch[:,1:,:],[[lstm_pred]],axis=1)"
      ],
      "execution_count": 53,
      "outputs": []
    },
    {
      "cell_type": "code",
      "metadata": {
        "colab": {
          "base_uri": "https://localhost:8080/"
        },
        "id": "_BKh9PJOVjAX",
        "outputId": "7b2e9b86-924e-4bbc-f7f0-82384365926c"
      },
      "source": [
        "lstm_predictions_scaled"
      ],
      "execution_count": 54,
      "outputs": [
        {
          "output_type": "execute_result",
          "data": {
            "text/plain": [
              "[array([0.00115853], dtype=float32),\n",
              " array([0.01143887], dtype=float32),\n",
              " array([0.01182656], dtype=float32),\n",
              " array([0.02900061], dtype=float32),\n",
              " array([0.04460555], dtype=float32),\n",
              " array([0.08447988], dtype=float32),\n",
              " array([0.20414351], dtype=float32),\n",
              " array([0.24680883], dtype=float32),\n",
              " array([0.39720684], dtype=float32),\n",
              " array([0.5293055], dtype=float32),\n",
              " array([0.61681783], dtype=float32),\n",
              " array([0.6608839], dtype=float32)]"
            ]
          },
          "metadata": {
            "tags": []
          },
          "execution_count": 54
        }
      ]
    },
    {
      "cell_type": "code",
      "metadata": {
        "id": "c0al4seuVjM-"
      },
      "source": [
        "lstm_predictions = scaler.inverse_transform(lstm_predictions_scaled)"
      ],
      "execution_count": 55,
      "outputs": []
    },
    {
      "cell_type": "code",
      "metadata": {
        "colab": {
          "base_uri": "https://localhost:8080/"
        },
        "id": "70sRyTDFVjQ8",
        "outputId": "2bad2001-717f-4113-fe21-b91acb527da6"
      },
      "source": [
        "lstm_predictions"
      ],
      "execution_count": 56,
      "outputs": [
        {
          "output_type": "execute_result",
          "data": {
            "text/plain": [
              "array([[ 0.14945012],\n",
              "       [ 1.47561409],\n",
              "       [ 1.52562623],\n",
              "       [ 3.7410787 ],\n",
              "       [ 5.75411636],\n",
              "       [10.89790399],\n",
              "       [26.3345127 ],\n",
              "       [31.83833867],\n",
              "       [51.23968273],\n",
              "       [68.28041178],\n",
              "       [79.56950033],\n",
              "       [85.25402355]])"
            ]
          },
          "metadata": {
            "tags": []
          },
          "execution_count": 56
        }
      ]
    },
    {
      "cell_type": "code",
      "metadata": {
        "id": "A1gDA1DjWziZ"
      },
      "source": [
        "test_data['LSTM_Predictions'] = lstm_predictions"
      ],
      "execution_count": 57,
      "outputs": []
    },
    {
      "cell_type": "code",
      "metadata": {
        "colab": {
          "base_uri": "https://localhost:8080/",
          "height": 447
        },
        "id": "mKyJVnePWzls",
        "outputId": "8ab1dc86-49ee-46f1-e09e-db3a26b3bf02"
      },
      "source": [
        "test_data"
      ],
      "execution_count": 58,
      "outputs": [
        {
          "output_type": "execute_result",
          "data": {
            "text/html": [
              "<div>\n",
              "<style scoped>\n",
              "    .dataframe tbody tr th:only-of-type {\n",
              "        vertical-align: middle;\n",
              "    }\n",
              "\n",
              "    .dataframe tbody tr th {\n",
              "        vertical-align: top;\n",
              "    }\n",
              "\n",
              "    .dataframe thead th {\n",
              "        text-align: right;\n",
              "    }\n",
              "</style>\n",
              "<table border=\"1\" class=\"dataframe\">\n",
              "  <thead>\n",
              "    <tr style=\"text-align: right;\">\n",
              "      <th></th>\n",
              "      <th>y</th>\n",
              "      <th>ARIMA_Predictions</th>\n",
              "      <th>Prophet_Predictions</th>\n",
              "      <th>LSTM_Predictions</th>\n",
              "    </tr>\n",
              "    <tr>\n",
              "      <th>ds</th>\n",
              "      <th></th>\n",
              "      <th></th>\n",
              "      <th></th>\n",
              "      <th></th>\n",
              "    </tr>\n",
              "  </thead>\n",
              "  <tbody>\n",
              "    <tr>\n",
              "      <th>2021-05-15 01:00:00</th>\n",
              "      <td>5</td>\n",
              "      <td>-2.001042</td>\n",
              "      <td>56.867246</td>\n",
              "      <td>0.149450</td>\n",
              "    </tr>\n",
              "    <tr>\n",
              "      <th>2021-05-15 02:00:00</th>\n",
              "      <td>1</td>\n",
              "      <td>-0.978309</td>\n",
              "      <td>58.137753</td>\n",
              "      <td>1.475614</td>\n",
              "    </tr>\n",
              "    <tr>\n",
              "      <th>2021-05-15 03:00:00</th>\n",
              "      <td>0</td>\n",
              "      <td>-1.971162</td>\n",
              "      <td>60.351460</td>\n",
              "      <td>1.525626</td>\n",
              "    </tr>\n",
              "    <tr>\n",
              "      <th>2021-05-15 04:00:00</th>\n",
              "      <td>6</td>\n",
              "      <td>4.463638</td>\n",
              "      <td>63.190868</td>\n",
              "      <td>3.741079</td>\n",
              "    </tr>\n",
              "    <tr>\n",
              "      <th>2021-05-15 05:00:00</th>\n",
              "      <td>26</td>\n",
              "      <td>27.016595</td>\n",
              "      <td>65.911137</td>\n",
              "      <td>5.754116</td>\n",
              "    </tr>\n",
              "    <tr>\n",
              "      <th>2021-05-15 06:00:00</th>\n",
              "      <td>31</td>\n",
              "      <td>41.649047</td>\n",
              "      <td>67.821448</td>\n",
              "      <td>10.897904</td>\n",
              "    </tr>\n",
              "    <tr>\n",
              "      <th>2021-05-15 07:00:00</th>\n",
              "      <td>66</td>\n",
              "      <td>48.696531</td>\n",
              "      <td>68.713483</td>\n",
              "      <td>26.334513</td>\n",
              "    </tr>\n",
              "    <tr>\n",
              "      <th>2021-05-15 08:00:00</th>\n",
              "      <td>75</td>\n",
              "      <td>65.703623</td>\n",
              "      <td>68.893143</td>\n",
              "      <td>31.838339</td>\n",
              "    </tr>\n",
              "    <tr>\n",
              "      <th>2021-05-15 09:00:00</th>\n",
              "      <td>100</td>\n",
              "      <td>75.224006</td>\n",
              "      <td>68.835597</td>\n",
              "      <td>51.239683</td>\n",
              "    </tr>\n",
              "    <tr>\n",
              "      <th>2021-05-15 10:00:00</th>\n",
              "      <td>92</td>\n",
              "      <td>67.905991</td>\n",
              "      <td>68.799913</td>\n",
              "      <td>68.280412</td>\n",
              "    </tr>\n",
              "    <tr>\n",
              "      <th>2021-05-15 11:00:00</th>\n",
              "      <td>102</td>\n",
              "      <td>65.049189</td>\n",
              "      <td>68.723272</td>\n",
              "      <td>79.569500</td>\n",
              "    </tr>\n",
              "    <tr>\n",
              "      <th>2021-05-15 12:00:00</th>\n",
              "      <td>51</td>\n",
              "      <td>66.921189</td>\n",
              "      <td>68.412608</td>\n",
              "      <td>85.254024</td>\n",
              "    </tr>\n",
              "  </tbody>\n",
              "</table>\n",
              "</div>"
            ],
            "text/plain": [
              "                       y  ...  LSTM_Predictions\n",
              "ds                        ...                  \n",
              "2021-05-15 01:00:00    5  ...          0.149450\n",
              "2021-05-15 02:00:00    1  ...          1.475614\n",
              "2021-05-15 03:00:00    0  ...          1.525626\n",
              "2021-05-15 04:00:00    6  ...          3.741079\n",
              "2021-05-15 05:00:00   26  ...          5.754116\n",
              "2021-05-15 06:00:00   31  ...         10.897904\n",
              "2021-05-15 07:00:00   66  ...         26.334513\n",
              "2021-05-15 08:00:00   75  ...         31.838339\n",
              "2021-05-15 09:00:00  100  ...         51.239683\n",
              "2021-05-15 10:00:00   92  ...         68.280412\n",
              "2021-05-15 11:00:00  102  ...         79.569500\n",
              "2021-05-15 12:00:00   51  ...         85.254024\n",
              "\n",
              "[12 rows x 4 columns]"
            ]
          },
          "metadata": {
            "tags": []
          },
          "execution_count": 58
        }
      ]
    },
    {
      "cell_type": "code",
      "metadata": {
        "colab": {
          "base_uri": "https://localhost:8080/",
          "height": 334
        },
        "id": "s9WxZsJLWzo0",
        "outputId": "4b2081ef-4027-4ef1-900b-b3c4b7b0192b"
      },
      "source": [
        "test_data['y'].plot(figsize = (16,5), legend=True)\n",
        "test_data['LSTM_Predictions'].plot(legend = True);"
      ],
      "execution_count": 59,
      "outputs": [
        {
          "output_type": "display_data",
          "data": {
            "image/png": "[encoded data removed]",
            "text/plain": [
              "<Figure size 1152x360 with 1 Axes>"
            ]
          },
          "metadata": {
            "tags": [],
            "needs_background": "light"
          }
        }
      ]
    },
    {
      "cell_type": "code",
      "metadata": {
        "colab": {
          "base_uri": "https://localhost:8080/"
        },
        "id": "e3zvlyOMWzra",
        "outputId": "ae863f59-3e0e-4d5d-9ecf-a52cd3439767"
      },
      "source": [
        "lstm_rmse_error = rmse(test_data['y'], test_data[\"LSTM_Predictions\"])\n",
        "lstm_mse_error = lstm_rmse_error**2\n",
        "mean_value = df['y'].mean()\n",
        "\n",
        "print(f'MSE Error: {lstm_mse_error}\\nRMSE Error: {lstm_rmse_error}\\nMean: {mean_value}')"
      ],
      "execution_count": 60,
      "outputs": [
        {
          "output_type": "stream",
          "text": [
            "MSE Error: 741.5089261896304\n",
            "RMSE Error: 27.23066150848397\n",
            "Mean: 8.396671289875174\n"
          ],
          "name": "stdout"
        }
      ]
    },
    {
      "cell_type": "code",
      "metadata": {
        "id": "hTHFv4aSWz1P"
      },
      "source": [
        "# ARIMA accuracy\n",
        "\n",
        "MSE Error: 8.192693185188205\n",
        "RMSE Error: 2.862288103107059\n",
        "Mean: 1.1678224687933425\n",
        "\n",
        "# Prophet accuracy\n",
        "\n",
        "MSE Error: 42.58929012875238\n",
        "RMSE Error: 6.526047052293784\n",
        "Mean: 1.1678224687933425\n",
        "\n",
        "# LSTM accuracy\n",
        "\n",
        "MSE Error: 61.72525147908522\n",
        "RMSE Error: 7.856541954262398\n",
        "Mean: 1.1678224687933425"
      ],
      "execution_count": null,
      "outputs": []
    },
    {
      "cell_type": "code",
      "metadata": {
        "id": "qyuNJ_-tVS6b"
      },
      "source": [
        "rmse_errors = [arima_rmse_error, lstm_rmse_error, prophet_rmse_error]\n",
        "mse_errors = [arima_mse_error, lstm_mse_error, prophet_mse_error]\n",
        "errors = pd.DataFrame({\"Models\" : [\"ARIMA\", \"LSTM\", \"Prophet\"],\"RMSE Errors\" : rmse_errors, \"MSE Errors\" : mse_errors})"
      ],
      "execution_count": 61,
      "outputs": []
    },
    {
      "cell_type": "code",
      "metadata": {
        "colab": {
          "base_uri": "https://localhost:8080/",
          "height": 537
        },
        "id": "klcyBaucXev3",
        "outputId": "14fbb129-32f2-4415-cc27-75eca95267f7"
      },
      "source": [
        "plt.figure(figsize=(16,9))\n",
        "plt.plot_date(test_data.index, test_data[\"y\"], linestyle=\"-\",label='y')\n",
        "plt.plot_date(test_data.index, test_data[\"ARIMA_Predictions\"], linestyle=\"-.\",label='ARIMA_Predictions')\n",
        "plt.plot_date(test_data.index, test_data[\"LSTM_Predictions\"], linestyle=\"--\",label='LSTM_Predictions')\n",
        "plt.plot_date(test_data.index, test_data[\"Prophet_Predictions\"], linestyle=\":\",label='Prophet_Predictions')\n",
        "plt.legend()\n",
        "\n",
        "plt.show()"
      ],
      "execution_count": 62,
      "outputs": [
        {
          "output_type": "display_data",
          "data": {
            "image/png": "[encoded data removed]",
            "text/plain": [
              "<Figure size 1152x648 with 1 Axes>"
            ]
          },
          "metadata": {
            "tags": [],
            "needs_background": "light"
          }
        }
      ]
    },
    {
      "cell_type": "code",
      "metadata": {
        "colab": {
          "base_uri": "https://localhost:8080/",
          "height": 158
        },
        "id": "Od4PXImEXezE",
        "outputId": "0acee52f-cca7-4492-bf76-3a6e8f0ad7ba"
      },
      "source": [
        "print(f\"Mean: {test_data['y'].mean()}\")\n",
        "errors"
      ],
      "execution_count": 63,
      "outputs": [
        {
          "output_type": "stream",
          "text": [
            "Mean: 46.25\n"
          ],
          "name": "stdout"
        },
        {
          "output_type": "execute_result",
          "data": {
            "text/html": [
              "<div>\n",
              "<style scoped>\n",
              "    .dataframe tbody tr th:only-of-type {\n",
              "        vertical-align: middle;\n",
              "    }\n",
              "\n",
              "    .dataframe tbody tr th {\n",
              "        vertical-align: top;\n",
              "    }\n",
              "\n",
              "    .dataframe thead th {\n",
              "        text-align: right;\n",
              "    }\n",
              "</style>\n",
              "<table border=\"1\" class=\"dataframe\">\n",
              "  <thead>\n",
              "    <tr style=\"text-align: right;\">\n",
              "      <th></th>\n",
              "      <th>Models</th>\n",
              "      <th>RMSE Errors</th>\n",
              "      <th>MSE Errors</th>\n",
              "    </tr>\n",
              "  </thead>\n",
              "  <tbody>\n",
              "    <tr>\n",
              "      <th>0</th>\n",
              "      <td>ARIMA</td>\n",
              "      <td>16.764696</td>\n",
              "      <td>281.055032</td>\n",
              "    </tr>\n",
              "    <tr>\n",
              "      <th>1</th>\n",
              "      <td>LSTM</td>\n",
              "      <td>27.230662</td>\n",
              "      <td>741.508926</td>\n",
              "    </tr>\n",
              "    <tr>\n",
              "      <th>2</th>\n",
              "      <td>Prophet</td>\n",
              "      <td>39.561562</td>\n",
              "      <td>1565.117193</td>\n",
              "    </tr>\n",
              "  </tbody>\n",
              "</table>\n",
              "</div>"
            ],
            "text/plain": [
              "    Models  RMSE Errors   MSE Errors\n",
              "0    ARIMA    16.764696   281.055032\n",
              "1     LSTM    27.230662   741.508926\n",
              "2  Prophet    39.561562  1565.117193"
            ]
          },
          "metadata": {
            "tags": []
          },
          "execution_count": 63
        }
      ]
    },
    {
      "cell_type": "code",
      "metadata": {
        "colab": {
          "base_uri": "https://localhost:8080/",
          "height": 447
        },
        "id": "BSI-IpeiX2J9",
        "outputId": "7a1aa788-3307-420c-846f-d47e323a907f"
      },
      "source": [
        "test_data"
      ],
      "execution_count": null,
      "outputs": [
        {
          "output_type": "execute_result",
          "data": {
            "text/html": [
              "<div>\n",
              "<style scoped>\n",
              "    .dataframe tbody tr th:only-of-type {\n",
              "        vertical-align: middle;\n",
              "    }\n",
              "\n",
              "    .dataframe tbody tr th {\n",
              "        vertical-align: top;\n",
              "    }\n",
              "\n",
              "    .dataframe thead th {\n",
              "        text-align: right;\n",
              "    }\n",
              "</style>\n",
              "<table border=\"1\" class=\"dataframe\">\n",
              "  <thead>\n",
              "    <tr style=\"text-align: right;\">\n",
              "      <th></th>\n",
              "      <th>y</th>\n",
              "      <th>Prophet_Predictions</th>\n",
              "      <th>LSTM_Predictions</th>\n",
              "      <th>ARIMA_Predictions</th>\n",
              "    </tr>\n",
              "    <tr>\n",
              "      <th>ds</th>\n",
              "      <th></th>\n",
              "      <th></th>\n",
              "      <th></th>\n",
              "      <th></th>\n",
              "    </tr>\n",
              "  </thead>\n",
              "  <tbody>\n",
              "    <tr>\n",
              "      <th>2021-05-15 01:00:00</th>\n",
              "      <td>1</td>\n",
              "      <td>9.217985</td>\n",
              "      <td>-0.142948</td>\n",
              "      <td>-3.707930</td>\n",
              "    </tr>\n",
              "    <tr>\n",
              "      <th>2021-05-15 02:00:00</th>\n",
              "      <td>0</td>\n",
              "      <td>9.322739</td>\n",
              "      <td>0.104450</td>\n",
              "      <td>-2.342556</td>\n",
              "    </tr>\n",
              "    <tr>\n",
              "      <th>2021-05-15 03:00:00</th>\n",
              "      <td>0</td>\n",
              "      <td>9.500386</td>\n",
              "      <td>4.649295</td>\n",
              "      <td>1.958447</td>\n",
              "    </tr>\n",
              "    <tr>\n",
              "      <th>2021-05-15 04:00:00</th>\n",
              "      <td>0</td>\n",
              "      <td>9.843611</td>\n",
              "      <td>11.999605</td>\n",
              "      <td>2.002282</td>\n",
              "    </tr>\n",
              "    <tr>\n",
              "      <th>2021-05-15 05:00:00</th>\n",
              "      <td>2</td>\n",
              "      <td>10.353241</td>\n",
              "      <td>18.366560</td>\n",
              "      <td>6.393724</td>\n",
              "    </tr>\n",
              "    <tr>\n",
              "      <th>2021-05-15 06:00:00</th>\n",
              "      <td>4</td>\n",
              "      <td>10.898845</td>\n",
              "      <td>17.373522</td>\n",
              "      <td>8.066059</td>\n",
              "    </tr>\n",
              "    <tr>\n",
              "      <th>2021-05-15 07:00:00</th>\n",
              "      <td>10</td>\n",
              "      <td>11.301295</td>\n",
              "      <td>16.865167</td>\n",
              "      <td>12.428910</td>\n",
              "    </tr>\n",
              "    <tr>\n",
              "      <th>2021-05-15 08:00:00</th>\n",
              "      <td>12</td>\n",
              "      <td>11.473225</td>\n",
              "      <td>18.157376</td>\n",
              "      <td>14.050522</td>\n",
              "    </tr>\n",
              "    <tr>\n",
              "      <th>2021-05-15 09:00:00</th>\n",
              "      <td>13</td>\n",
              "      <td>11.490573</td>\n",
              "      <td>19.844532</td>\n",
              "      <td>13.272397</td>\n",
              "    </tr>\n",
              "    <tr>\n",
              "      <th>2021-05-15 10:00:00</th>\n",
              "      <td>16</td>\n",
              "      <td>11.524948</td>\n",
              "      <td>21.374392</td>\n",
              "      <td>14.430204</td>\n",
              "    </tr>\n",
              "    <tr>\n",
              "      <th>2021-05-15 11:00:00</th>\n",
              "      <td>16</td>\n",
              "      <td>11.692873</td>\n",
              "      <td>23.027188</td>\n",
              "      <td>12.658103</td>\n",
              "    </tr>\n",
              "    <tr>\n",
              "      <th>2021-05-15 12:00:00</th>\n",
              "      <td>15</td>\n",
              "      <td>11.955106</td>\n",
              "      <td>24.282495</td>\n",
              "      <td>13.220430</td>\n",
              "    </tr>\n",
              "  </tbody>\n",
              "</table>\n",
              "</div>"
            ],
            "text/plain": [
              "                      y  ...  ARIMA_Predictions\n",
              "ds                       ...                   \n",
              "2021-05-15 01:00:00   1  ...          -3.707930\n",
              "2021-05-15 02:00:00   0  ...          -2.342556\n",
              "2021-05-15 03:00:00   0  ...           1.958447\n",
              "2021-05-15 04:00:00   0  ...           2.002282\n",
              "2021-05-15 05:00:00   2  ...           6.393724\n",
              "2021-05-15 06:00:00   4  ...           8.066059\n",
              "2021-05-15 07:00:00  10  ...          12.428910\n",
              "2021-05-15 08:00:00  12  ...          14.050522\n",
              "2021-05-15 09:00:00  13  ...          13.272397\n",
              "2021-05-15 10:00:00  16  ...          14.430204\n",
              "2021-05-15 11:00:00  16  ...          12.658103\n",
              "2021-05-15 12:00:00  15  ...          13.220430\n",
              "\n",
              "[12 rows x 4 columns]"
            ]
          },
          "metadata": {
            "tags": []
          },
          "execution_count": 92
        }
      ]
    },
    {
      "cell_type": "code",
      "metadata": {
        "id": "Vonu_aFnboyX"
      },
      "source": [
        "test_data.to_csv(r'/content/sample_data/500_error_final_modelprediction.csv')"
      ],
      "execution_count": null,
      "outputs": []
    }
  ]
}